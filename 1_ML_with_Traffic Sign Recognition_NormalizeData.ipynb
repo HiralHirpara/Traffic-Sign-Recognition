{
 "cells": [
  {
   "cell_type": "markdown",
   "metadata": {},
   "source": [
    "--------------------------------------------------------------\n",
    "# Apply Machine Learning Algorithms :\n",
    "\n",
    "\n",
    " #### 1) Logistic Regression\n",
    " #### 2) Decision Tree Classifier\n",
    " #### 3) Random Forest Classifier\n",
    " #### 4) Adaboost Classifier\n",
    " #### 5) XGBoost Classifier"
   ]
  },
  {
   "cell_type": "markdown",
   "metadata": {},
   "source": [
    "--------------------------------------------------------------\n",
    "### In this file, we normalize the feature data."
   ]
  },
  {
   "cell_type": "code",
   "execution_count": 33,
   "metadata": {},
   "outputs": [],
   "source": [
    "# Importing libraries and packages:\n",
    "\n",
    "from sklearn.utils import resample\n",
    "from sklearn.metrics import accuracy_score\n",
    "from sklearn import metrics\n",
    "from sklearn import preprocessing\n",
    "\n",
    "# Importing the required packages and libraries\n",
    "import numpy as np\n",
    "import pandas as pd\n",
    "import matplotlib.pyplot as plt\n",
    "\n",
    "\n",
    "from pickle import dump, load\n",
    "from keras.utils import np_utils\n",
    "\n",
    "%matplotlib inline"
   ]
  },
  {
   "cell_type": "code",
   "execution_count": 34,
   "metadata": {},
   "outputs": [],
   "source": [
    "# Collect data\n",
    "pickle_dir = 'TFS_Dataset/Pickle/'"
   ]
  },
  {
   "cell_type": "code",
   "execution_count": 35,
   "metadata": {},
   "outputs": [],
   "source": [
    "# Number of total classes\n",
    "NUM_CATEGORIES = 43\n",
    "\n",
    "\n",
    "# Resizing the images to 32x32x3\n",
    "img_height = 32\n",
    "img_width = 32\n",
    "channels = 3\n",
    "\n",
    "# reshape image size\n",
    "n_features = 1024  ## 32 * 32 = 1024"
   ]
  },
  {
   "cell_type": "markdown",
   "metadata": {},
   "source": [
    "## Load Pickle file data\n"
   ]
  },
  {
   "cell_type": "code",
   "execution_count": 36,
   "metadata": {},
   "outputs": [],
   "source": [
    "# Load all Training images & label data\n",
    "fid = open((pickle_dir+'X_train_y_train_gray.pkl'), 'rb')\n",
    "X_train_gray,y_train_gray = load(fid)\n",
    "fid.close()\n",
    "\n",
    "# Load all Testing images & label data\n",
    "fid = open((pickle_dir+'X_test_y_test_gray.pkl'), 'rb')\n",
    "X_test_gray,y_test_gray = load(fid)\n",
    "fid.close()\n",
    "\n",
    "# Load Traffic sign Classes\n",
    "fid = open((pickle_dir+'Traffic_sign_Classes.pkl'), 'rb')\n",
    "traffic_classes = load(fid)\n",
    "fid.close()"
   ]
  },
  {
   "cell_type": "markdown",
   "metadata": {},
   "source": [
    "## Summary"
   ]
  },
  {
   "cell_type": "code",
   "execution_count": 37,
   "metadata": {
    "scrolled": false
   },
   "outputs": [
    {
     "name": "stdout",
     "output_type": "stream",
     "text": [
      "Number of Training examples = 39209\n",
      "Number of Testing examples = 12630\n",
      "Image data shape = (39209, 32, 32)\n",
      "Number of classes = 43\n"
     ]
    }
   ],
   "source": [
    "print(\"Number of Training examples =\", len(X_train_gray))\n",
    "print(\"Number of Testing examples =\", len(X_test_gray))\n",
    "print(\"Image data shape =\", (X_train_gray.shape))\n",
    "print(\"Number of classes =\", len(traffic_classes))"
   ]
  },
  {
   "cell_type": "markdown",
   "metadata": {},
   "source": [
    "## Reshape training, testing and validation data\n"
   ]
  },
  {
   "cell_type": "code",
   "execution_count": 38,
   "metadata": {},
   "outputs": [
    {
     "name": "stdout",
     "output_type": "stream",
     "text": [
      "X_train_gray shape before reshape :  (39209, 32, 32)\n",
      "X_test_gray shape before reshape:  (12630, 32, 32)\n"
     ]
    }
   ],
   "source": [
    "print(\"X_train_gray shape before reshape : \",X_train_gray.shape)\n",
    "print(\"X_test_gray shape before reshape: \",X_test_gray.shape)"
   ]
  },
  {
   "cell_type": "code",
   "execution_count": 39,
   "metadata": {},
   "outputs": [],
   "source": [
    "# building the input vector from the 32x32 pixels\n",
    "X_train_gray = X_train_gray.reshape(X_train_gray.shape[0], n_features)\n",
    "X_test_gray = X_test_gray.reshape(X_test_gray.shape[0], n_features)"
   ]
  },
  {
   "cell_type": "code",
   "execution_count": 40,
   "metadata": {},
   "outputs": [
    {
     "name": "stdout",
     "output_type": "stream",
     "text": [
      "X_train_gray shape after reshape :  (39209, 1024)\n",
      "X_test_gray shape after reshape:  (12630, 1024)\n"
     ]
    }
   ],
   "source": [
    "print(\"X_train_gray shape after reshape : \",X_train_gray.shape)\n",
    "print(\"X_test_gray shape after reshape: \",X_test_gray.shape)\n"
   ]
  },
  {
   "cell_type": "code",
   "execution_count": 41,
   "metadata": {},
   "outputs": [
    {
     "data": {
      "text/plain": [
       "array([[ 43,  51,  48, ...,  46,  59,  52],\n",
       "       [119, 155, 208, ..., 179, 175, 197],\n",
       "       [123, 176, 160, ...,  38,  39,  39],\n",
       "       ...,\n",
       "       [255, 255, 252, ..., 226, 221, 222],\n",
       "       [109, 128, 202, ...,  46,  49,  46],\n",
       "       [174, 204, 203, ..., 105, 101, 100]], dtype=uint8)"
      ]
     },
     "execution_count": 41,
     "metadata": {},
     "output_type": "execute_result"
    }
   ],
   "source": [
    "X_train_gray"
   ]
  },
  {
   "cell_type": "markdown",
   "metadata": {},
   "source": [
    "## Standardize the data"
   ]
  },
  {
   "cell_type": "code",
   "execution_count": 42,
   "metadata": {},
   "outputs": [],
   "source": [
    "X_train_gray = preprocessing.scale(X_train_gray)\n",
    "X_test_gray = preprocessing.scale(X_test_gray)"
   ]
  },
  {
   "cell_type": "code",
   "execution_count": 43,
   "metadata": {},
   "outputs": [
    {
     "data": {
      "text/plain": [
       "array([[-0.59255351, -0.48713397, -0.52921723, ..., -0.35216126,\n",
       "        -0.1412604 , -0.24908881],\n",
       "       [ 0.40507732,  0.87800471,  1.57016444, ...,  1.73709442,\n",
       "         1.69009929,  2.02650958],\n",
       "       [ 0.4575842 ,  1.15365771,  0.94034994, ..., -0.47783077,\n",
       "        -0.45701207, -0.45310797],\n",
       "       ...,\n",
       "       [ 2.19031143,  2.19063805,  2.1474944 , ...,  2.47540282,\n",
       "         2.41632813,  2.41885413],\n",
       "       [ 0.2738101 ,  0.5235937 ,  1.49143763, ..., -0.35216126,\n",
       "        -0.29913623, -0.3432515 ],\n",
       "       [ 1.12704699,  1.52119505,  1.50455876, ...,  0.57465141,\n",
       "         0.52181811,  0.50421273]])"
      ]
     },
     "execution_count": 43,
     "metadata": {},
     "output_type": "execute_result"
    }
   ],
   "source": [
    "X_train_gray"
   ]
  },
  {
   "cell_type": "code",
   "execution_count": 44,
   "metadata": {},
   "outputs": [
    {
     "name": "stdout",
     "output_type": "stream",
     "text": [
      "y_train : (39209,)\n",
      "y_test : (12630,)\n"
     ]
    }
   ],
   "source": [
    "print(\"y_train :\",y_train_gray.shape)\n",
    "print(\"y_test :\",y_test_gray.shape)"
   ]
  },
  {
   "cell_type": "markdown",
   "metadata": {
    "collapsed": true
   },
   "source": [
    "# 1 - Logistic Regression"
   ]
  },
  {
   "cell_type": "code",
   "execution_count": 46,
   "metadata": {},
   "outputs": [
    {
     "name": "stdout",
     "output_type": "stream",
     "text": [
      "[12 13  1 ...  5  1 38]\n"
     ]
    },
    {
     "name": "stderr",
     "output_type": "stream",
     "text": [
      "/opt/anaconda3/lib/python3.8/site-packages/sklearn/linear_model/_logistic.py:762: ConvergenceWarning: lbfgs failed to converge (status=1):\n",
      "STOP: TOTAL NO. of ITERATIONS REACHED LIMIT.\n",
      "\n",
      "Increase the number of iterations (max_iter) or scale the data as shown in:\n",
      "    https://scikit-learn.org/stable/modules/preprocessing.html\n",
      "Please also refer to the documentation for alternative solver options:\n",
      "    https://scikit-learn.org/stable/modules/linear_model.html#logistic-regression\n",
      "  n_iter_i = _check_optimize_result(\n"
     ]
    }
   ],
   "source": [
    "# import Logistic Regression \n",
    "from sklearn.linear_model import LogisticRegression\n",
    "\n",
    "my_logreg = LogisticRegression()\n",
    "my_logreg.fit(X_train_gray, y_train_gray)\n",
    "\n",
    "# Prediction on the testing set:\n",
    "y_predict_lr = my_logreg.predict(X_test_gray)\n",
    "print(y_predict_lr)"
   ]
  },
  {
   "cell_type": "markdown",
   "metadata": {},
   "source": [
    "### Accuracy Evaluation:\n"
   ]
  },
  {
   "cell_type": "code",
   "execution_count": 47,
   "metadata": {},
   "outputs": [
    {
     "name": "stdout",
     "output_type": "stream",
     "text": [
      "Logistic Regression  accuracy:  0.8180522565320665\n"
     ]
    }
   ],
   "source": [
    "# display accuracy\n",
    "score_lr = accuracy_score(y_test_gray, y_predict_lr)\n",
    "\n",
    "print(\"Logistic Regression  accuracy: \",score_lr)\n"
   ]
  },
  {
   "cell_type": "markdown",
   "metadata": {},
   "source": [
    "### Estimating the Probability (likelihood) of happening an Event: "
   ]
  },
  {
   "cell_type": "code",
   "execution_count": 15,
   "metadata": {},
   "outputs": [
    {
     "name": "stdout",
     "output_type": "stream",
     "text": [
      "[12 13  1 ...  5  1 38]\n",
      "[6.55040160e-04 2.81843956e-07 9.81136129e-01 ... 2.12442329e-01\n",
      " 9.99804176e-01 4.13760022e-14]\n"
     ]
    }
   ],
   "source": [
    "# Estimating the probability (likelihood) of Each Label: \n",
    "y_predict_prob_lr = my_logreg.predict_proba(X_test_gray)\n",
    "\n",
    "print(y_predict_lr)\n",
    "print(y_predict_prob_lr[:,1])\n"
   ]
  },
  {
   "cell_type": "markdown",
   "metadata": {},
   "source": [
    "### True Positive Rate (TPR) and False Positive Rate (FPR):"
   ]
  },
  {
   "cell_type": "code",
   "execution_count": 16,
   "metadata": {},
   "outputs": [
    {
     "name": "stdout",
     "output_type": "stream",
     "text": [
      "[0.00000000e+00 0.00000000e+00 0.00000000e+00 1.67926113e-04\n",
      " 1.67926113e-04 2.51889169e-04 2.51889169e-04 3.35852225e-04\n",
      " 3.35852225e-04 4.19815281e-04 4.19815281e-04 5.03778338e-04\n",
      " 5.03778338e-04 5.87741394e-04 5.87741394e-04 6.71704450e-04\n",
      " 6.71704450e-04 7.55667506e-04 7.55667506e-04 8.39630563e-04\n",
      " 8.39630563e-04 9.23593619e-04 9.23593619e-04 1.00755668e-03\n",
      " 1.00755668e-03 1.25944584e-03 1.25944584e-03 1.34340890e-03\n",
      " 1.34340890e-03 1.42737196e-03 1.42737196e-03 1.59529807e-03\n",
      " 1.59529807e-03 1.67926113e-03 1.67926113e-03 1.76322418e-03\n",
      " 1.76322418e-03 2.01511335e-03 2.01511335e-03 2.09907641e-03\n",
      " 2.09907641e-03 2.18303946e-03 2.18303946e-03 2.26700252e-03\n",
      " 2.26700252e-03 2.35096558e-03 2.35096558e-03 2.43492863e-03\n",
      " 2.43492863e-03 2.51889169e-03 2.51889169e-03 2.60285474e-03\n",
      " 2.60285474e-03 2.68681780e-03 2.68681780e-03 2.77078086e-03\n",
      " 2.77078086e-03 2.93870697e-03 2.93870697e-03 3.02267003e-03\n",
      " 3.02267003e-03 3.19059614e-03 3.19059614e-03 3.27455919e-03\n",
      " 3.27455919e-03 3.35852225e-03 3.35852225e-03 3.44248531e-03\n",
      " 3.44248531e-03 3.61041142e-03 3.61041142e-03 3.69437448e-03\n",
      " 3.69437448e-03 3.77833753e-03 3.77833753e-03 3.94626364e-03\n",
      " 3.94626364e-03 4.03022670e-03 4.03022670e-03 4.11418976e-03\n",
      " 4.11418976e-03 4.19815281e-03 4.19815281e-03 4.28211587e-03\n",
      " 4.28211587e-03 4.36607893e-03 4.36607893e-03 4.45004198e-03\n",
      " 4.45004198e-03 4.61796809e-03 4.61796809e-03 4.70193115e-03\n",
      " 4.70193115e-03 4.78589421e-03 4.78589421e-03 4.86985726e-03\n",
      " 4.86985726e-03 4.95382032e-03 4.95382032e-03 5.12174643e-03\n",
      " 5.12174643e-03 5.20570949e-03 5.20570949e-03 5.28967254e-03\n",
      " 5.28967254e-03 5.37363560e-03 5.37363560e-03 5.54156171e-03\n",
      " 5.54156171e-03 5.70948783e-03 5.70948783e-03 5.79345088e-03\n",
      " 5.79345088e-03 5.87741394e-03 5.87741394e-03 5.96137699e-03\n",
      " 5.96137699e-03 6.04534005e-03 6.04534005e-03 6.12930311e-03\n",
      " 6.12930311e-03 6.21326616e-03 6.21326616e-03 6.29722922e-03\n",
      " 6.29722922e-03 6.38119228e-03 6.38119228e-03 6.46515533e-03\n",
      " 6.46515533e-03 6.63308144e-03 6.63308144e-03 6.88497061e-03\n",
      " 6.88497061e-03 7.22082284e-03 7.22082284e-03 7.38874895e-03\n",
      " 7.38874895e-03 7.80856423e-03 7.80856423e-03 7.89252729e-03\n",
      " 7.89252729e-03 7.97649034e-03 7.97649034e-03 8.06045340e-03\n",
      " 8.06045340e-03 8.31234257e-03 8.31234257e-03 8.48026868e-03\n",
      " 8.48026868e-03 8.56423174e-03 8.56423174e-03 8.64819479e-03\n",
      " 8.64819479e-03 8.81612091e-03 8.81612091e-03 8.90008396e-03\n",
      " 8.90008396e-03 8.98404702e-03 8.98404702e-03 9.06801008e-03\n",
      " 9.06801008e-03 9.23593619e-03 9.23593619e-03 9.31989924e-03\n",
      " 9.31989924e-03 9.40386230e-03 9.40386230e-03 9.48782536e-03\n",
      " 9.48782536e-03 9.57178841e-03 9.57178841e-03 9.82367758e-03\n",
      " 9.82367758e-03 9.90764064e-03 9.90764064e-03 9.99160369e-03\n",
      " 9.99160369e-03 1.03274559e-02 1.03274559e-02 1.04114190e-02\n",
      " 1.04114190e-02 1.04953820e-02 1.04953820e-02 1.05793451e-02\n",
      " 1.05793451e-02 1.08312343e-02 1.08312343e-02 1.09151973e-02\n",
      " 1.09151973e-02 1.10831234e-02 1.10831234e-02 1.13350126e-02\n",
      " 1.13350126e-02 1.16708648e-02 1.16708648e-02 1.17548279e-02\n",
      " 1.17548279e-02 1.18387909e-02 1.18387909e-02 1.20906801e-02\n",
      " 1.20906801e-02 1.22586062e-02 1.22586062e-02 1.24265323e-02\n",
      " 1.24265323e-02 1.25944584e-02 1.25944584e-02 1.26784215e-02\n",
      " 1.26784215e-02 1.29303107e-02 1.29303107e-02 1.30142737e-02\n",
      " 1.30142737e-02 1.33501259e-02 1.33501259e-02 1.35180521e-02\n",
      " 1.35180521e-02 1.36859782e-02 1.36859782e-02 1.37699412e-02\n",
      " 1.37699412e-02 1.41897565e-02 1.41897565e-02 1.42737196e-02\n",
      " 1.42737196e-02 1.50293871e-02 1.50293871e-02 1.51133501e-02\n",
      " 1.51133501e-02 1.51973132e-02 1.51973132e-02 1.52812762e-02\n",
      " 1.52812762e-02 1.59529807e-02 1.59529807e-02 1.62048699e-02\n",
      " 1.62048699e-02 1.66246851e-02 1.66246851e-02 1.70445004e-02\n",
      " 1.70445004e-02 1.71284635e-02 1.71284635e-02 1.85558354e-02\n",
      " 1.85558354e-02 1.86397985e-02 1.86397985e-02 1.87237615e-02\n",
      " 1.87237615e-02 1.88077246e-02 1.88077246e-02 1.89756507e-02\n",
      " 1.89756507e-02 1.90596138e-02 1.90596138e-02 1.94794291e-02\n",
      " 1.94794291e-02 2.00671704e-02 2.00671704e-02 2.06549118e-02\n",
      " 2.06549118e-02 2.09907641e-02 2.09907641e-02 2.11586902e-02\n",
      " 2.11586902e-02 2.14945424e-02 2.14945424e-02 2.17464316e-02\n",
      " 2.17464316e-02 2.19983207e-02 2.19983207e-02 2.20822838e-02\n",
      " 2.20822838e-02 2.21662469e-02 2.21662469e-02 2.24181360e-02\n",
      " 2.24181360e-02 2.30058774e-02 2.30058774e-02 2.35096558e-02\n",
      " 2.35096558e-02 2.35936188e-02 2.35936188e-02 2.57766583e-02\n",
      " 2.57766583e-02 2.60285474e-02 2.60285474e-02 2.91351805e-02\n",
      " 2.91351805e-02 2.96389589e-02 2.96389589e-02 3.24937028e-02\n",
      " 3.24937028e-02 3.40890008e-02 3.40890008e-02 3.67758186e-02\n",
      " 3.67758186e-02 3.71956339e-02 3.71956339e-02 3.74475231e-02\n",
      " 3.74475231e-02 3.87909320e-02 3.87909320e-02 3.97984887e-02\n",
      " 3.97984887e-02 4.27371956e-02 4.27371956e-02 4.28211587e-02\n",
      " 4.28211587e-02 4.29890848e-02 4.29890848e-02 4.58438287e-02\n",
      " 4.58438287e-02 5.07976490e-02 5.07976490e-02 5.11335013e-02\n",
      " 5.11335013e-02 5.16372796e-02 5.16372796e-02 5.28967254e-02\n",
      " 5.28967254e-02 5.39042821e-02 5.39042821e-02 5.48278757e-02\n",
      " 5.48278757e-02 5.61712846e-02 5.61712846e-02 6.80100756e-02\n",
      " 6.80100756e-02 7.32157851e-02 7.32157851e-02 7.61544920e-02\n",
      " 7.61544920e-02 7.98488665e-02 7.98488665e-02 8.11922754e-02\n",
      " 8.11922754e-02 9.14357683e-02 9.14357683e-02 9.57178841e-02\n",
      " 9.57178841e-02 1.02183039e-01 1.02183039e-01 1.05373636e-01\n",
      " 1.05373636e-01 1.08732158e-01 1.08732158e-01 1.12006717e-01\n",
      " 1.12006717e-01 1.12594458e-01 1.12594458e-01 1.13602015e-01\n",
      " 1.13602015e-01 1.14693535e-01 1.14693535e-01 1.23173804e-01\n",
      " 1.23173804e-01 1.37615449e-01 1.37615449e-01 1.49202351e-01\n",
      " 1.49202351e-01 1.53904282e-01 1.53904282e-01 1.54492024e-01\n",
      " 1.54492024e-01 1.54575987e-01 1.54575987e-01 1.57514694e-01\n",
      " 1.57514694e-01 1.62636440e-01 1.62636440e-01 1.66834593e-01\n",
      " 1.66834593e-01 1.75146935e-01 1.75146935e-01 1.76406381e-01\n",
      " 1.76406381e-01 1.80772460e-01 1.80772460e-01 1.87573468e-01\n",
      " 1.87573468e-01 2.07220823e-01 2.07220823e-01 2.15365239e-01\n",
      " 2.15365239e-01 2.21662469e-01 2.21662469e-01 2.23005877e-01\n",
      " 2.23005877e-01 2.28211587e-01 2.28211587e-01 2.31738035e-01\n",
      " 2.31738035e-01 2.38371117e-01 2.38371117e-01 2.43408900e-01\n",
      " 2.43408900e-01 2.57850546e-01 2.57850546e-01 2.65659110e-01\n",
      " 2.65659110e-01 2.68345928e-01 2.68345928e-01 3.26280437e-01\n",
      " 3.26280437e-01 3.86733837e-01 3.86733837e-01 4.35348447e-01\n",
      " 4.35348447e-01 5.02686818e-01 5.02686818e-01 5.09151973e-01\n",
      " 5.09151973e-01 5.17044500e-01 5.17044500e-01 5.18052057e-01\n",
      " 5.18052057e-01 5.18807725e-01 5.18807725e-01 5.77665827e-01\n",
      " 5.77665827e-01 6.15029387e-01 6.15029387e-01 8.34508816e-01\n",
      " 8.34508816e-01 1.00000000e+00]\n",
      "[0.         0.00138889 0.01111111 0.01111111 0.02222222 0.02222222\n",
      " 0.025      0.025      0.02777778 0.02777778 0.04166667 0.04166667\n",
      " 0.05555556 0.05555556 0.05694444 0.05694444 0.0875     0.0875\n",
      " 0.10555556 0.10555556 0.10694444 0.10694444 0.13472222 0.13472222\n",
      " 0.14444444 0.14444444 0.14861111 0.14861111 0.19305556 0.19305556\n",
      " 0.21111111 0.21111111 0.22777778 0.22777778 0.24861111 0.24861111\n",
      " 0.25972222 0.25972222 0.27916667 0.27916667 0.29722222 0.29722222\n",
      " 0.3125     0.3125     0.31944444 0.31944444 0.34166667 0.34166667\n",
      " 0.35972222 0.35972222 0.37083333 0.37083333 0.40555556 0.40555556\n",
      " 0.40972222 0.40972222 0.45       0.45       0.46944444 0.46944444\n",
      " 0.48333333 0.48333333 0.50277778 0.50277778 0.51666667 0.51666667\n",
      " 0.52222222 0.52222222 0.53611111 0.53611111 0.55694444 0.55694444\n",
      " 0.59444444 0.59444444 0.60138889 0.60138889 0.60555556 0.60555556\n",
      " 0.6125     0.6125     0.61666667 0.61666667 0.61805556 0.61805556\n",
      " 0.62083333 0.62083333 0.62916667 0.62916667 0.63333333 0.63333333\n",
      " 0.6375     0.6375     0.64305556 0.64305556 0.64444444 0.64444444\n",
      " 0.64861111 0.64861111 0.65       0.65       0.65833333 0.65833333\n",
      " 0.6625     0.6625     0.66388889 0.66388889 0.66527778 0.66527778\n",
      " 0.66944444 0.66944444 0.67361111 0.67361111 0.675      0.675\n",
      " 0.67916667 0.67916667 0.68055556 0.68055556 0.68472222 0.68472222\n",
      " 0.68611111 0.68611111 0.6875     0.6875     0.68888889 0.68888889\n",
      " 0.69444444 0.69444444 0.70416667 0.70416667 0.70555556 0.70555556\n",
      " 0.70694444 0.70694444 0.71111111 0.71111111 0.72222222 0.72222222\n",
      " 0.72916667 0.72916667 0.73055556 0.73055556 0.73194444 0.73194444\n",
      " 0.74583333 0.74583333 0.74722222 0.74722222 0.75       0.75\n",
      " 0.75138889 0.75138889 0.75277778 0.75277778 0.75694444 0.75694444\n",
      " 0.75972222 0.75972222 0.76111111 0.76111111 0.7625     0.7625\n",
      " 0.76388889 0.76388889 0.76527778 0.76527778 0.76666667 0.76666667\n",
      " 0.76805556 0.76805556 0.77083333 0.77083333 0.77222222 0.77222222\n",
      " 0.77361111 0.77361111 0.77777778 0.77777778 0.78055556 0.78055556\n",
      " 0.78194444 0.78194444 0.78611111 0.78611111 0.79722222 0.79722222\n",
      " 0.8        0.8        0.80138889 0.80138889 0.80277778 0.80277778\n",
      " 0.80694444 0.80694444 0.80833333 0.80833333 0.81111111 0.81111111\n",
      " 0.81388889 0.81388889 0.81527778 0.81527778 0.81805556 0.81805556\n",
      " 0.81944444 0.81944444 0.825      0.825      0.82638889 0.82638889\n",
      " 0.83055556 0.83055556 0.83472222 0.83472222 0.83611111 0.83611111\n",
      " 0.8375     0.8375     0.83888889 0.83888889 0.84166667 0.84166667\n",
      " 0.84305556 0.84305556 0.84722222 0.84722222 0.84861111 0.84861111\n",
      " 0.85       0.85       0.85138889 0.85138889 0.85416667 0.85416667\n",
      " 0.85555556 0.85555556 0.85694444 0.85694444 0.86111111 0.86111111\n",
      " 0.8625     0.8625     0.86666667 0.86666667 0.86805556 0.86805556\n",
      " 0.86944444 0.86944444 0.87083333 0.87083333 0.87222222 0.87222222\n",
      " 0.87361111 0.87361111 0.875      0.875      0.87638889 0.87638889\n",
      " 0.87777778 0.87777778 0.87916667 0.87916667 0.88194444 0.88194444\n",
      " 0.88333333 0.88333333 0.88472222 0.88472222 0.8875     0.8875\n",
      " 0.88888889 0.88888889 0.89027778 0.89027778 0.89305556 0.89305556\n",
      " 0.89444444 0.89444444 0.89583333 0.89583333 0.89722222 0.89722222\n",
      " 0.89861111 0.89861111 0.9        0.9        0.90138889 0.90138889\n",
      " 0.90277778 0.90277778 0.90416667 0.90416667 0.90555556 0.90555556\n",
      " 0.90694444 0.90694444 0.90972222 0.90972222 0.91111111 0.91111111\n",
      " 0.9125     0.9125     0.91388889 0.91388889 0.91527778 0.91527778\n",
      " 0.91666667 0.91666667 0.91805556 0.91805556 0.91944444 0.91944444\n",
      " 0.92083333 0.92083333 0.92222222 0.92222222 0.92361111 0.92361111\n",
      " 0.92638889 0.92638889 0.92777778 0.92777778 0.92916667 0.92916667\n",
      " 0.93055556 0.93055556 0.93194444 0.93194444 0.93333333 0.93333333\n",
      " 0.93472222 0.93472222 0.93611111 0.93611111 0.9375     0.9375\n",
      " 0.93888889 0.93888889 0.94027778 0.94027778 0.94166667 0.94166667\n",
      " 0.94305556 0.94305556 0.94444444 0.94444444 0.94583333 0.94583333\n",
      " 0.94722222 0.94722222 0.94861111 0.94861111 0.95       0.95\n",
      " 0.95138889 0.95138889 0.95277778 0.95277778 0.95416667 0.95416667\n",
      " 0.95555556 0.95555556 0.95694444 0.95694444 0.95833333 0.95833333\n",
      " 0.95972222 0.95972222 0.96111111 0.96111111 0.9625     0.9625\n",
      " 0.96388889 0.96388889 0.96527778 0.96527778 0.96666667 0.96666667\n",
      " 0.96805556 0.96805556 0.96944444 0.96944444 0.97083333 0.97083333\n",
      " 0.97222222 0.97222222 0.97361111 0.97361111 0.975      0.975\n",
      " 0.97638889 0.97638889 0.97777778 0.97777778 0.97916667 0.97916667\n",
      " 0.98055556 0.98055556 0.98194444 0.98194444 0.98333333 0.98333333\n",
      " 0.98472222 0.98472222 0.98611111 0.98611111 0.9875     0.9875\n",
      " 0.98888889 0.98888889 0.99027778 0.99027778 0.99166667 0.99166667\n",
      " 0.99305556 0.99305556 0.99444444 0.99444444 0.99583333 0.99583333\n",
      " 0.99722222 0.99722222 0.99861111 0.99861111 1.         1.        ]\n"
     ]
    }
   ],
   "source": [
    "fpr_lr, tpr_lr, thresholds = metrics.roc_curve(y_test_gray, y_predict_prob_lr[:,1], pos_label=1)\n",
    "\n",
    "print(fpr_lr)\n",
    "print(tpr_lr)"
   ]
  },
  {
   "cell_type": "markdown",
   "metadata": {},
   "source": [
    "### AUC:"
   ]
  },
  {
   "cell_type": "code",
   "execution_count": 17,
   "metadata": {},
   "outputs": [
    {
     "name": "stdout",
     "output_type": "stream",
     "text": [
      "0.9780864586248718\n"
     ]
    }
   ],
   "source": [
    "# AUC:\n",
    "AUC_lr = metrics.auc(fpr_lr, tpr_lr)\n",
    "print(AUC_lr)"
   ]
  },
  {
   "cell_type": "markdown",
   "metadata": {},
   "source": [
    "### ROC Curve:"
   ]
  },
  {
   "cell_type": "code",
   "execution_count": 18,
   "metadata": {},
   "outputs": [
    {
     "data": {
      "image/png": "[encoded data removed]",
      "text/plain": [
       "<Figure size 432x288 with 1 Axes>"
      ]
     },
     "metadata": {
      "needs_background": "light"
     },
     "output_type": "display_data"
    }
   ],
   "source": [
    "plt.figure()\n",
    "\n",
    "# Roc Curve:\n",
    "plt.plot(fpr_lr, tpr_lr, color='red', lw=2, label='LR - ROC Curve (area = %0.2f)' % AUC_lr)\n",
    "\n",
    "# Random Guess line:\n",
    "plt.plot([0, 1], [0, 1], color='blue', lw=1, linestyle='--')\n",
    "\n",
    "# Defining The Range of X-Axis and Y-Axis:\n",
    "plt.xlim([-0.005, 1.005])\n",
    "plt.ylim([0.0, 1.01])\n",
    "\n",
    "# Labels, Title, Legend:\n",
    "plt.xlabel('False Positive Rate')\n",
    "plt.ylabel('True Positive Rate')\n",
    "plt.title('Receiver operating characteristic')\n",
    "plt.legend(loc=\"lower right\")\n",
    "\n",
    "plt.show()"
   ]
  },
  {
   "cell_type": "markdown",
   "metadata": {},
   "source": [
    "# 2 - Decision Tree Classifier\n"
   ]
  },
  {
   "cell_type": "code",
   "execution_count": 19,
   "metadata": {},
   "outputs": [
    {
     "name": "stdout",
     "output_type": "stream",
     "text": [
      "[12  3  1 ...  5  1 38]\n",
      "CPU times: user 41.7 s, sys: 160 ms, total: 41.9 s\n",
      "Wall time: 42.2 s\n"
     ]
    }
   ],
   "source": [
    "%%time\n",
    "# import Decision Tree Classifier\n",
    "from sklearn.tree import DecisionTreeClassifier\n",
    "\n",
    "my_decisiontree = DecisionTreeClassifier(random_state=2)\n",
    "my_decisiontree.fit(X_train_gray, y_train_gray)\n",
    "\n",
    "# Prediction on the testing set:\n",
    "y_predict_dt = my_decisiontree.predict(X_test_gray)\n",
    "\n",
    "print(y_predict_dt)"
   ]
  },
  {
   "cell_type": "code",
   "execution_count": 20,
   "metadata": {},
   "outputs": [
    {
     "name": "stdout",
     "output_type": "stream",
     "text": [
      "Decision Tree Classifier accuracy:  0.5572446555819477\n"
     ]
    }
   ],
   "source": [
    "# display accuracy\n",
    "score_dt = accuracy_score(y_test_gray, y_predict_dt)\n",
    "\n",
    "print(\"Decision Tree Classifier accuracy: \",score_dt)"
   ]
  },
  {
   "cell_type": "markdown",
   "metadata": {},
   "source": [
    "### Estimating the Probability (likelihood) of happening an Event: \n"
   ]
  },
  {
   "cell_type": "code",
   "execution_count": 21,
   "metadata": {},
   "outputs": [
    {
     "name": "stdout",
     "output_type": "stream",
     "text": [
      "[12  3  1 ...  5  1 38]\n",
      "[0. 0. 1. ... 0. 1. 0.]\n"
     ]
    }
   ],
   "source": [
    "# Estimating the probability (likelihood) of Each Label: \n",
    "y_predict_prob_dt = my_decisiontree.predict_proba(X_test_gray)\n",
    "\n",
    "print(y_predict_dt)\n",
    "print(y_predict_prob_dt[:,1])"
   ]
  },
  {
   "cell_type": "markdown",
   "metadata": {},
   "source": [
    "### True Positive Rate (TPR) and False Positive Rate (FPR):"
   ]
  },
  {
   "cell_type": "code",
   "execution_count": 22,
   "metadata": {},
   "outputs": [
    {
     "name": "stdout",
     "output_type": "stream",
     "text": [
      "[0.         0.02308984 1.        ]\n",
      "\n",
      "\n",
      "[0.         0.58472222 1.        ]\n"
     ]
    }
   ],
   "source": [
    "fpr_dt, tpr_dt, thresholds_dt = metrics.roc_curve(y_test_gray, y_predict_prob_dt[:,1], pos_label=1)\n",
    "\n",
    "print(fpr_dt)\n",
    "print(\"\\n\")\n",
    "print(tpr_dt)"
   ]
  },
  {
   "cell_type": "markdown",
   "metadata": {},
   "source": [
    "### AUC:"
   ]
  },
  {
   "cell_type": "code",
   "execution_count": 23,
   "metadata": {},
   "outputs": [
    {
     "name": "stdout",
     "output_type": "stream",
     "text": [
      "0.7808161908760145\n"
     ]
    }
   ],
   "source": [
    "# AUC:\n",
    "AUC_dt = metrics.auc(fpr_dt, tpr_dt)\n",
    "print(AUC_dt)"
   ]
  },
  {
   "cell_type": "markdown",
   "metadata": {},
   "source": [
    "### ROC Curve:"
   ]
  },
  {
   "cell_type": "code",
   "execution_count": 24,
   "metadata": {},
   "outputs": [
    {
     "data": {
      "image/png": "[encoded data removed]",
      "text/plain": [
       "<Figure size 432x288 with 1 Axes>"
      ]
     },
     "metadata": {
      "needs_background": "light"
     },
     "output_type": "display_data"
    }
   ],
   "source": [
    "plt.figure()\n",
    "\n",
    "# Roc Curve:\n",
    "plt.plot(fpr_dt, tpr_dt, color='red', lw=2, label='DT - ROC Curve (area = %0.2f)' % AUC_dt)\n",
    "\n",
    "# Random Guess line:\n",
    "plt.plot([0, 1], [0, 1], color='blue', lw=1, linestyle='--')\n",
    "\n",
    "# Defining The Range of X-Axis and Y-Axis:\n",
    "plt.xlim([-0.005, 1.005])\n",
    "plt.ylim([0.0, 1.01])\n",
    "\n",
    "# Labels, Title, Legend:\n",
    "plt.xlabel('False Positive Rate')\n",
    "plt.ylabel('True Positive Rate')\n",
    "plt.title('Receiver operating characteristic')\n",
    "plt.legend(loc=\"lower right\")\n",
    "\n",
    "plt.show()"
   ]
  },
  {
   "cell_type": "markdown",
   "metadata": {},
   "source": [
    "# 3 - Random Forest Classifier"
   ]
  },
  {
   "cell_type": "code",
   "execution_count": 25,
   "metadata": {},
   "outputs": [
    {
     "name": "stdout",
     "output_type": "stream",
     "text": [
      "[12 34  1 ...  1  1 12]\n",
      "CPU times: user 27.7 s, sys: 221 ms, total: 27.9 s\n",
      "Wall time: 28.1 s\n"
     ]
    }
   ],
   "source": [
    "%%time\n",
    "# import Random Forest Classifier\n",
    "from sklearn.ensemble import RandomForestClassifier\n",
    "\n",
    "my_RandomForest = RandomForestClassifier(n_estimators = 29, bootstrap = True, random_state=2)\n",
    "my_RandomForest.fit(X_train_gray, y_train_gray)\n",
    "\n",
    "# Prediction on the testing set:\n",
    "y_predict_rf = my_RandomForest.predict(X_test_gray)\n",
    "\n",
    "print(y_predict_rf)"
   ]
  },
  {
   "cell_type": "code",
   "execution_count": 26,
   "metadata": {},
   "outputs": [
    {
     "name": "stdout",
     "output_type": "stream",
     "text": [
      "Random Forest Classifier accuracy:  0.7256532066508313\n"
     ]
    }
   ],
   "source": [
    "# display accuracy\n",
    "score_rf = accuracy_score(y_test_gray, y_predict_rf)\n",
    "\n",
    "print(\"Random Forest Classifier accuracy: \",score_rf)"
   ]
  },
  {
   "cell_type": "markdown",
   "metadata": {},
   "source": [
    "### Estimating the Probability (likelihood) of happening an Event: \n"
   ]
  },
  {
   "cell_type": "code",
   "execution_count": 27,
   "metadata": {},
   "outputs": [
    {
     "name": "stdout",
     "output_type": "stream",
     "text": [
      "[12 34  1 ...  1  1 12]\n",
      "[0.03448276 0.06896552 0.37931034 ... 0.37931034 0.31034483 0.03448276]\n"
     ]
    }
   ],
   "source": [
    "# Estimating the probability (likelihood) of Each Label: \n",
    "y_predict_prob_rf = my_RandomForest.predict_proba(X_test_gray)\n",
    "\n",
    "print(y_predict_rf)\n",
    "print(y_predict_prob_rf[:,1])"
   ]
  },
  {
   "cell_type": "markdown",
   "metadata": {},
   "source": [
    "### True Positive Rate (TPR) and False Positive Rate (FPR):"
   ]
  },
  {
   "cell_type": "code",
   "execution_count": 28,
   "metadata": {},
   "outputs": [
    {
     "name": "stdout",
     "output_type": "stream",
     "text": [
      "[0.00000000e+00 0.00000000e+00 0.00000000e+00 0.00000000e+00\n",
      " 0.00000000e+00 0.00000000e+00 0.00000000e+00 0.00000000e+00\n",
      " 0.00000000e+00 0.00000000e+00 0.00000000e+00 0.00000000e+00\n",
      " 0.00000000e+00 0.00000000e+00 8.39630563e-05 3.35852225e-04\n",
      " 6.71704450e-04 1.17548279e-03 2.35096558e-03 4.86985726e-03\n",
      " 8.48026868e-03 1.62048699e-02 2.76238455e-02 4.83627204e-02\n",
      " 7.99328296e-02 1.39714526e-01 2.54240134e-01 4.76574307e-01\n",
      " 1.00000000e+00]\n",
      "\n",
      "\n",
      "[0.         0.00138889 0.02083333 0.03333333 0.04166667 0.05555556\n",
      " 0.08055556 0.1        0.12222222 0.14722222 0.18472222 0.21944444\n",
      " 0.27083333 0.33611111 0.39861111 0.44583333 0.50694444 0.57361111\n",
      " 0.6375     0.68472222 0.72916667 0.77638889 0.84444444 0.87638889\n",
      " 0.90555556 0.93611111 0.96944444 0.98611111 1.        ]\n"
     ]
    }
   ],
   "source": [
    "\n",
    "fpr_rf, tpr_rf, thresholds_rf = metrics.roc_curve(y_test_gray, y_predict_prob_rf[:,1], pos_label=1)\n",
    "\n",
    "print(fpr_rf)\n",
    "print(\"\\n\")\n",
    "print(tpr_rf)"
   ]
  },
  {
   "cell_type": "markdown",
   "metadata": {},
   "source": [
    "### AUC:"
   ]
  },
  {
   "cell_type": "code",
   "execution_count": 29,
   "metadata": {},
   "outputs": [
    {
     "name": "stdout",
     "output_type": "stream",
     "text": [
      "0.9678906614422987\n"
     ]
    }
   ],
   "source": [
    "# AUC:\n",
    "AUC_rf = metrics.auc(fpr_rf, tpr_rf)\n",
    "print(AUC_rf)"
   ]
  },
  {
   "cell_type": "markdown",
   "metadata": {},
   "source": [
    "### ROC Curve:"
   ]
  },
  {
   "cell_type": "code",
   "execution_count": 30,
   "metadata": {},
   "outputs": [
    {
     "data": {
      "image/png": "[encoded data removed]",
      "text/plain": [
       "<Figure size 432x288 with 1 Axes>"
      ]
     },
     "metadata": {
      "needs_background": "light"
     },
     "output_type": "display_data"
    }
   ],
   "source": [
    "plt.figure()\n",
    "\n",
    "# Roc Curve:\n",
    "plt.plot(fpr_rf, tpr_rf, color='red', lw=2, label='RF - ROC Curve (area = %0.2f)' % AUC_rf)\n",
    "\n",
    "# Random Guess line:\n",
    "plt.plot([0, 1], [0, 1], color='blue', lw=1, linestyle='--')\n",
    "\n",
    "# Defining The Range of X-Axis and Y-Axis:\n",
    "plt.xlim([-0.005, 1.005])\n",
    "plt.ylim([0.0, 1.01])\n",
    "\n",
    "# Labels, Title, Legend:\n",
    "plt.xlabel('False Positive Rate')\n",
    "plt.ylabel('True Positive Rate')\n",
    "plt.title('Receiver operating characteristic')\n",
    "plt.legend(loc=\"lower right\")\n",
    "\n",
    "plt.show()"
   ]
  },
  {
   "cell_type": "markdown",
   "metadata": {},
   "source": [
    "# 4 - Adaboost Classifier\n"
   ]
  },
  {
   "cell_type": "code",
   "execution_count": 31,
   "metadata": {},
   "outputs": [
    {
     "name": "stdout",
     "output_type": "stream",
     "text": [
      "[12 14  2 ... 14 38 14]\n",
      "CPU times: user 1min 11s, sys: 3.26 s, total: 1min 14s\n",
      "Wall time: 1min 14s\n"
     ]
    }
   ],
   "source": [
    "%%time\n",
    "# import Ada Boost Classifier\n",
    "from sklearn.ensemble import AdaBoostClassifier\n",
    "\n",
    "my_AdaBoost = AdaBoostClassifier(n_estimators = 29,random_state=2)\n",
    "my_AdaBoost.fit(X_train_gray,y_train_gray)\n",
    "\n",
    "# Prediction on the testing set:\n",
    "y_predict_ad = my_AdaBoost.predict(X_test_gray)\n",
    "\n",
    "print(y_predict_ad)"
   ]
  },
  {
   "cell_type": "code",
   "execution_count": 32,
   "metadata": {},
   "outputs": [
    {
     "name": "stdout",
     "output_type": "stream",
     "text": [
      "AdaBoost Classifier accuracy:  0.21211401425178147\n"
     ]
    }
   ],
   "source": [
    "# display accuracy\n",
    "score_ad = accuracy_score(y_test_gray, y_predict_ad)\n",
    "\n",
    "print(\"AdaBoost Classifier accuracy: \",score_ad)"
   ]
  },
  {
   "cell_type": "markdown",
   "metadata": {},
   "source": [
    "### Estimating the Probability (likelihood) of happening an Event: \n"
   ]
  },
  {
   "cell_type": "code",
   "execution_count": 33,
   "metadata": {},
   "outputs": [
    {
     "name": "stdout",
     "output_type": "stream",
     "text": [
      "[12 14  2 ... 14 38 14]\n",
      "[0.02609871 0.03845122 0.02706622 ... 0.03140738 0.02625194 0.03669593]\n"
     ]
    }
   ],
   "source": [
    "# Estimating the probability (likelihood) of Each Label: \n",
    "y_predict_prob_ad = my_AdaBoost.predict_proba(X_test_gray)\n",
    "\n",
    "print(y_predict_ad)\n",
    "print(y_predict_prob_ad[:,1])"
   ]
  },
  {
   "cell_type": "markdown",
   "metadata": {},
   "source": [
    "### True Positive Rate (TPR) and False Positive Rate (FPR):"
   ]
  },
  {
   "cell_type": "code",
   "execution_count": 34,
   "metadata": {},
   "outputs": [
    {
     "name": "stdout",
     "output_type": "stream",
     "text": [
      "[0.         0.         0.         ... 0.99941226 0.99983207 1.        ]\n",
      "\n",
      "\n",
      "[0.         0.00416667 0.00694444 ... 1.         1.         1.        ]\n"
     ]
    }
   ],
   "source": [
    "fpr_ad, tpr_ad, thresholds_ad = metrics.roc_curve(y_test_gray, y_predict_prob_ad[:,1], pos_label=1)\n",
    "\n",
    "print(fpr_ad)\n",
    "print(\"\\n\")\n",
    "print(tpr_ad)"
   ]
  },
  {
   "cell_type": "markdown",
   "metadata": {},
   "source": [
    "### AUC:"
   ]
  },
  {
   "cell_type": "code",
   "execution_count": 35,
   "metadata": {},
   "outputs": [
    {
     "name": "stdout",
     "output_type": "stream",
     "text": [
      "0.7094879419721989\n"
     ]
    }
   ],
   "source": [
    "# AUC:\n",
    "AUC_ad = metrics.auc(fpr_ad, tpr_ad)\n",
    "print(AUC_ad)"
   ]
  },
  {
   "cell_type": "markdown",
   "metadata": {},
   "source": [
    "### ROC Curve:"
   ]
  },
  {
   "cell_type": "code",
   "execution_count": 36,
   "metadata": {},
   "outputs": [
    {
     "data": {
      "image/png": "[encoded data removed]",
      "text/plain": [
       "<Figure size 432x288 with 1 Axes>"
      ]
     },
     "metadata": {
      "needs_background": "light"
     },
     "output_type": "display_data"
    }
   ],
   "source": [
    "plt.figure()\n",
    "\n",
    "# Roc Curve:\n",
    "plt.plot(fpr_ad, tpr_ad, color='red', lw=2, label='AdB - ROC Curve (area = %0.2f)' % AUC_ad)\n",
    "\n",
    "# Random Guess line:\n",
    "plt.plot([0, 1], [0, 1], color='blue', lw=1, linestyle='--')\n",
    "\n",
    "# Defining The Range of X-Axis and Y-Axis:\n",
    "plt.xlim([-0.005, 1.005])\n",
    "plt.ylim([0.0, 1.01])\n",
    "\n",
    "# Labels, Title, Legend:\n",
    "plt.xlabel('False Positive Rate')\n",
    "plt.ylabel('True Positive Rate')\n",
    "plt.title('Receiver operating characteristic')\n",
    "plt.legend(loc=\"lower right\")\n",
    "\n",
    "plt.show()"
   ]
  },
  {
   "cell_type": "markdown",
   "metadata": {},
   "source": [
    "# 5 - XGBoost Classifier\n"
   ]
  },
  {
   "cell_type": "code",
   "execution_count": 48,
   "metadata": {},
   "outputs": [
    {
     "name": "stderr",
     "output_type": "stream",
     "text": [
      "/opt/anaconda3/lib/python3.8/site-packages/xgboost/sklearn.py:888: UserWarning: The use of label encoder in XGBClassifier is deprecated and will be removed in a future release. To remove this warning, do the following: 1) Pass option use_label_encoder=False when constructing XGBClassifier object; and 2) Encode your labels (y) as integers starting with 0, i.e. 0, 1, 2, ..., [num_class - 1].\n",
      "  warnings.warn(label_encoder_deprecation_msg, UserWarning)\n"
     ]
    },
    {
     "name": "stdout",
     "output_type": "stream",
     "text": [
      "[14:40:05] WARNING: /Users/travis/build/dmlc/xgboost/src/learner.cc:1061: Starting in XGBoost 1.3.0, the default evaluation metric used with the objective 'multi:softprob' was changed from 'merror' to 'mlogloss'. Explicitly set eval_metric if you'd like to restore the old behavior.\n",
      "[12 18  1 ...  1  1 18]\n",
      "CPU times: user 1h 28min 13s, sys: 34.8 s, total: 1h 28min 48s\n",
      "Wall time: 12min 44s\n"
     ]
    }
   ],
   "source": [
    "%%time\n",
    "# import XGBoost Classifier\n",
    "from xgboost import XGBClassifier\n",
    "\n",
    "my_XGBoost = XGBClassifier(n_estimators = 29,random_state=2)\n",
    "my_XGBoost.fit(X_train_gray,y_train_gray)\n",
    "\n",
    "# Prediction on the testing set:\n",
    "y_predict_xg = my_XGBoost.predict(X_test_gray)\n",
    "\n",
    "print(y_predict_xg)"
   ]
  },
  {
   "cell_type": "code",
   "execution_count": 49,
   "metadata": {},
   "outputs": [
    {
     "name": "stdout",
     "output_type": "stream",
     "text": [
      "XGBoost Classifier accuracy:  0.7389548693586698\n"
     ]
    }
   ],
   "source": [
    "# display accuracy\n",
    "score_xg = accuracy_score(y_test_gray, y_predict_xg)\n",
    "\n",
    "print(\"XGBoost Classifier accuracy: \",score_xg)"
   ]
  },
  {
   "cell_type": "markdown",
   "metadata": {},
   "source": [
    "### Estimating the Probability (likelihood) of happening an Event: \n"
   ]
  },
  {
   "cell_type": "code",
   "execution_count": 39,
   "metadata": {},
   "outputs": [
    {
     "name": "stdout",
     "output_type": "stream",
     "text": [
      "[12 18  1 ...  1  1 18]\n",
      "[0.05524035 0.22837232 0.9990958  ... 0.9502478  0.9685923  0.04130529]\n"
     ]
    }
   ],
   "source": [
    "# Estimating the probability (likelihood) of Each Label: \n",
    "y_predict_prob_xg = my_XGBoost.predict_proba(X_test_gray)\n",
    "\n",
    "print(y_predict_xg)\n",
    "print(y_predict_prob_xg[:,1])"
   ]
  },
  {
   "cell_type": "markdown",
   "metadata": {},
   "source": [
    "### True Positive Rate (TPR) and False Positive Rate (FPR):"
   ]
  },
  {
   "cell_type": "code",
   "execution_count": 40,
   "metadata": {},
   "outputs": [
    {
     "name": "stdout",
     "output_type": "stream",
     "text": [
      "[0.00000000e+00 0.00000000e+00 0.00000000e+00 8.39630563e-05\n",
      " 8.39630563e-05 1.67926113e-04 1.67926113e-04 2.51889169e-04\n",
      " 2.51889169e-04 3.35852225e-04 3.35852225e-04 4.19815281e-04\n",
      " 4.19815281e-04 5.03778338e-04 5.03778338e-04 5.87741394e-04\n",
      " 5.87741394e-04 6.71704450e-04 6.71704450e-04 7.55667506e-04\n",
      " 7.55667506e-04 9.23593619e-04 9.23593619e-04 1.09151973e-03\n",
      " 1.09151973e-03 1.17548279e-03 1.17548279e-03 1.25944584e-03\n",
      " 1.25944584e-03 1.42737196e-03 1.42737196e-03 1.51133501e-03\n",
      " 1.51133501e-03 1.59529807e-03 1.59529807e-03 1.67926113e-03\n",
      " 1.67926113e-03 1.76322418e-03 1.76322418e-03 1.93115029e-03\n",
      " 1.93115029e-03 2.01511335e-03 2.01511335e-03 2.09907641e-03\n",
      " 2.09907641e-03 2.18303946e-03 2.18303946e-03 2.26700252e-03\n",
      " 2.26700252e-03 2.35096558e-03 2.35096558e-03 2.43492863e-03\n",
      " 2.43492863e-03 2.51889169e-03 2.51889169e-03 2.93870697e-03\n",
      " 2.93870697e-03 3.02267003e-03 3.02267003e-03 3.10663308e-03\n",
      " 3.10663308e-03 3.35852225e-03 3.35852225e-03 3.44248531e-03\n",
      " 3.44248531e-03 3.61041142e-03 3.61041142e-03 3.77833753e-03\n",
      " 3.77833753e-03 3.86230059e-03 3.86230059e-03 3.94626364e-03\n",
      " 3.94626364e-03 4.03022670e-03 4.03022670e-03 4.28211587e-03\n",
      " 4.28211587e-03 4.53400504e-03 4.53400504e-03 4.61796809e-03\n",
      " 4.61796809e-03 4.70193115e-03 4.70193115e-03 4.78589421e-03\n",
      " 4.78589421e-03 4.86985726e-03 4.86985726e-03 5.12174643e-03\n",
      " 5.12174643e-03 5.20570949e-03 5.20570949e-03 5.37363560e-03\n",
      " 5.37363560e-03 5.45759866e-03 5.45759866e-03 5.62552477e-03\n",
      " 5.62552477e-03 5.70948783e-03 5.70948783e-03 5.87741394e-03\n",
      " 5.87741394e-03 5.96137699e-03 5.96137699e-03 6.12930311e-03\n",
      " 6.12930311e-03 6.29722922e-03 6.29722922e-03 6.38119228e-03\n",
      " 6.38119228e-03 6.54911839e-03 6.54911839e-03 6.71704450e-03\n",
      " 6.71704450e-03 6.80100756e-03 6.80100756e-03 6.96893367e-03\n",
      " 6.96893367e-03 7.13685978e-03 7.13685978e-03 7.38874895e-03\n",
      " 7.38874895e-03 7.89252729e-03 7.89252729e-03 7.97649034e-03\n",
      " 7.97649034e-03 8.14441646e-03 8.14441646e-03 8.22837951e-03\n",
      " 8.22837951e-03 8.31234257e-03 8.31234257e-03 8.48026868e-03\n",
      " 8.48026868e-03 8.56423174e-03 8.56423174e-03 8.73215785e-03\n",
      " 8.73215785e-03 8.81612091e-03 8.81612091e-03 9.06801008e-03\n",
      " 9.06801008e-03 9.31989924e-03 9.31989924e-03 9.48782536e-03\n",
      " 9.48782536e-03 9.82367758e-03 9.82367758e-03 9.90764064e-03\n",
      " 9.90764064e-03 1.01595298e-02 1.01595298e-02 1.03274559e-02\n",
      " 1.03274559e-02 1.04953820e-02 1.04953820e-02 1.06633081e-02\n",
      " 1.06633081e-02 1.08312343e-02 1.08312343e-02 1.09991604e-02\n",
      " 1.09991604e-02 1.10831234e-02 1.10831234e-02 1.11670865e-02\n",
      " 1.11670865e-02 1.13350126e-02 1.13350126e-02 1.14189757e-02\n",
      " 1.14189757e-02 1.15029387e-02 1.15029387e-02 1.15869018e-02\n",
      " 1.15869018e-02 1.16708648e-02 1.16708648e-02 1.18387909e-02\n",
      " 1.18387909e-02 1.19227540e-02 1.19227540e-02 1.20067170e-02\n",
      " 1.20067170e-02 1.24265323e-02 1.24265323e-02 1.25944584e-02\n",
      " 1.25944584e-02 1.28463476e-02 1.28463476e-02 1.29303107e-02\n",
      " 1.29303107e-02 1.33501259e-02 1.33501259e-02 1.36020151e-02\n",
      " 1.36020151e-02 1.44416457e-02 1.44416457e-02 1.45256087e-02\n",
      " 1.45256087e-02 1.53652393e-02 1.53652393e-02 1.56171285e-02\n",
      " 1.56171285e-02 1.57850546e-02 1.57850546e-02 1.59529807e-02\n",
      " 1.59529807e-02 1.60369437e-02 1.60369437e-02 1.62888329e-02\n",
      " 1.62888329e-02 1.63727960e-02 1.63727960e-02 1.66246851e-02\n",
      " 1.66246851e-02 1.67086482e-02 1.67086482e-02 1.68765743e-02\n",
      " 1.68765743e-02 1.74643157e-02 1.74643157e-02 1.77162049e-02\n",
      " 1.77162049e-02 1.81360202e-02 1.81360202e-02 1.84718724e-02\n",
      " 1.84718724e-02 1.85558354e-02 1.85558354e-02 1.87237615e-02\n",
      " 1.87237615e-02 1.89756507e-02 1.89756507e-02 1.93115029e-02\n",
      " 1.93115029e-02 1.94794291e-02 1.94794291e-02 1.97313182e-02\n",
      " 1.97313182e-02 1.98152813e-02 1.98152813e-02 2.02350966e-02\n",
      " 2.02350966e-02 2.03190596e-02 2.03190596e-02 2.09907641e-02\n",
      " 2.09907641e-02 2.12426532e-02 2.12426532e-02 2.13266163e-02\n",
      " 2.13266163e-02 2.17464316e-02 2.17464316e-02 2.19143577e-02\n",
      " 2.19143577e-02 2.19983207e-02 2.19983207e-02 2.25860621e-02\n",
      " 2.25860621e-02 2.27539882e-02 2.27539882e-02 2.33417296e-02\n",
      " 2.33417296e-02 2.35936188e-02 2.35936188e-02 2.37615449e-02\n",
      " 2.37615449e-02 2.64483627e-02 2.64483627e-02 2.67842149e-02\n",
      " 2.67842149e-02 2.69521411e-02 2.69521411e-02 2.72040302e-02\n",
      " 2.72040302e-02 2.81276238e-02 2.81276238e-02 2.91351805e-02\n",
      " 2.91351805e-02 2.94710327e-02 2.94710327e-02 2.95549958e-02\n",
      " 2.95549958e-02 2.96389589e-02 2.96389589e-02 3.27455919e-02\n",
      " 3.27455919e-02 3.28295550e-02 3.28295550e-02 3.29135181e-02\n",
      " 3.29135181e-02 3.32493703e-02 3.32493703e-02 3.33333333e-02\n",
      " 3.33333333e-02 3.45927792e-02 3.45927792e-02 3.47607053e-02\n",
      " 3.47607053e-02 3.51805206e-02 3.51805206e-02 3.53484467e-02\n",
      " 3.53484467e-02 3.54324097e-02 3.54324097e-02 3.61041142e-02\n",
      " 3.61041142e-02 3.77833753e-02 3.77833753e-02 3.97145256e-02\n",
      " 3.97145256e-02 4.00503778e-02 4.00503778e-02 4.15617128e-02\n",
      " 4.15617128e-02 4.24013434e-02 4.24013434e-02 4.34089001e-02\n",
      " 4.34089001e-02 4.65994962e-02 4.65994962e-02 4.69353484e-02\n",
      " 4.69353484e-02 4.70193115e-02 4.70193115e-02 4.76070529e-02\n",
      " 4.76070529e-02 4.76910160e-02 4.76910160e-02 4.92023510e-02\n",
      " 4.92023510e-02 4.92863140e-02 4.92863140e-02 5.25608732e-02\n",
      " 5.25608732e-02 5.49958018e-02 5.49958018e-02 5.72628044e-02\n",
      " 5.72628044e-02 6.23005877e-02 6.23005877e-02 6.28883291e-02\n",
      " 6.28883291e-02 6.55751469e-02 6.55751469e-02 6.81780017e-02\n",
      " 6.81780017e-02 6.97732997e-02 6.97732997e-02 7.25440806e-02\n",
      " 7.25440806e-02 7.27959698e-02 7.27959698e-02 7.43073048e-02\n",
      " 7.43073048e-02 7.45591940e-02 7.45591940e-02 7.98488665e-02\n",
      " 7.98488665e-02 8.05205709e-02 8.05205709e-02 8.27875735e-02\n",
      " 8.27875735e-02 8.44668346e-02 8.44668346e-02 8.53064652e-02\n",
      " 8.53064652e-02 8.61460957e-02 8.61460957e-02 8.78253568e-02\n",
      " 8.78253568e-02 9.10159530e-02 9.10159530e-02 9.50461797e-02\n",
      " 9.50461797e-02 9.84047019e-02 9.84047019e-02 1.01007557e-01\n",
      " 1.01007557e-01 1.01679261e-01 1.01679261e-01 1.02770781e-01\n",
      " 1.02770781e-01 1.05457599e-01 1.05457599e-01 1.06213266e-01\n",
      " 1.06213266e-01 1.12930311e-01 1.12930311e-01 1.16120907e-01\n",
      " 1.16120907e-01 1.17968094e-01 1.17968094e-01 1.20906801e-01\n",
      " 1.20906801e-01 1.22418136e-01 1.22418136e-01 1.26196474e-01\n",
      " 1.26196474e-01 1.30226700e-01 1.30226700e-01 1.34592779e-01\n",
      " 1.34592779e-01 1.36607893e-01 1.36607893e-01 1.39378673e-01\n",
      " 1.39378673e-01 1.49454240e-01 1.49454240e-01 1.51217464e-01\n",
      " 1.51217464e-01 1.51301427e-01 1.51301427e-01 1.56423174e-01\n",
      " 1.56423174e-01 1.60453401e-01 1.60453401e-01 1.87153652e-01\n",
      " 1.87153652e-01 2.03694374e-01 2.03694374e-01 2.06129303e-01\n",
      " 2.06129303e-01 2.11251050e-01 2.11251050e-01 2.14777498e-01\n",
      " 2.14777498e-01 2.31486146e-01 2.31486146e-01 2.37111671e-01\n",
      " 2.37111671e-01 2.63979849e-01 2.63979849e-01 2.65491184e-01\n",
      " 2.65491184e-01 2.72124265e-01 2.72124265e-01 2.96725441e-01\n",
      " 2.96725441e-01 3.00335852e-01 3.00335852e-01 3.35012594e-01\n",
      " 3.35012594e-01 3.40050378e-01 3.40050378e-01 3.45843829e-01\n",
      " 3.45843829e-01 3.61544920e-01 3.61544920e-01 3.98152813e-01\n",
      " 3.98152813e-01 4.18387909e-01 4.18387909e-01 4.81947943e-01\n",
      " 4.81947943e-01 5.49202351e-01 5.49202351e-01 6.04701931e-01\n",
      " 6.04701931e-01 1.00000000e+00]\n",
      "\n",
      "\n",
      "[0.         0.00138889 0.16944444 0.16944444 0.27361111 0.27361111\n",
      " 0.325      0.325      0.34583333 0.34583333 0.35972222 0.35972222\n",
      " 0.36666667 0.36666667 0.39027778 0.39027778 0.39166667 0.39166667\n",
      " 0.41527778 0.41527778 0.425      0.425      0.44861111 0.44861111\n",
      " 0.47361111 0.47361111 0.47777778 0.47777778 0.48611111 0.48611111\n",
      " 0.49722222 0.49722222 0.49861111 0.49861111 0.50833333 0.50833333\n",
      " 0.51944444 0.51944444 0.52083333 0.52083333 0.54305556 0.54305556\n",
      " 0.54861111 0.54861111 0.55277778 0.55277778 0.55694444 0.55694444\n",
      " 0.56111111 0.56111111 0.56527778 0.56527778 0.57638889 0.57638889\n",
      " 0.57777778 0.57777778 0.57916667 0.57916667 0.59027778 0.59027778\n",
      " 0.59305556 0.59305556 0.59722222 0.59722222 0.60416667 0.60416667\n",
      " 0.60555556 0.60555556 0.60972222 0.60972222 0.61527778 0.61527778\n",
      " 0.61666667 0.61666667 0.61805556 0.61805556 0.62083333 0.62083333\n",
      " 0.6375     0.6375     0.64166667 0.64166667 0.65138889 0.65138889\n",
      " 0.65555556 0.65555556 0.65694444 0.65694444 0.65972222 0.65972222\n",
      " 0.6625     0.6625     0.67638889 0.67638889 0.67777778 0.67777778\n",
      " 0.67916667 0.67916667 0.68194444 0.68194444 0.69166667 0.69166667\n",
      " 0.69583333 0.69583333 0.70138889 0.70138889 0.70277778 0.70277778\n",
      " 0.70555556 0.70555556 0.70972222 0.70972222 0.7125     0.7125\n",
      " 0.71388889 0.71388889 0.71527778 0.71527778 0.71666667 0.71666667\n",
      " 0.71805556 0.71805556 0.72222222 0.72222222 0.72361111 0.72361111\n",
      " 0.72638889 0.72638889 0.72777778 0.72777778 0.73194444 0.73194444\n",
      " 0.73333333 0.73333333 0.73611111 0.73611111 0.73888889 0.73888889\n",
      " 0.74027778 0.74027778 0.74444444 0.74444444 0.74583333 0.74583333\n",
      " 0.74722222 0.74722222 0.74861111 0.74861111 0.75555556 0.75555556\n",
      " 0.75833333 0.75833333 0.75972222 0.75972222 0.76111111 0.76111111\n",
      " 0.7625     0.7625     0.76388889 0.76388889 0.76805556 0.76805556\n",
      " 0.77083333 0.77083333 0.77222222 0.77222222 0.77361111 0.77361111\n",
      " 0.775      0.775      0.77916667 0.77916667 0.78194444 0.78194444\n",
      " 0.78472222 0.78472222 0.78611111 0.78611111 0.78888889 0.78888889\n",
      " 0.79027778 0.79027778 0.79166667 0.79166667 0.79305556 0.79305556\n",
      " 0.79861111 0.79861111 0.8        0.8        0.80138889 0.80138889\n",
      " 0.80277778 0.80277778 0.80416667 0.80416667 0.80555556 0.80555556\n",
      " 0.80694444 0.80694444 0.80833333 0.80833333 0.80972222 0.80972222\n",
      " 0.81111111 0.81111111 0.8125     0.8125     0.81527778 0.81527778\n",
      " 0.81805556 0.81805556 0.81944444 0.81944444 0.82083333 0.82083333\n",
      " 0.82222222 0.82222222 0.825      0.825      0.82638889 0.82638889\n",
      " 0.82777778 0.82777778 0.83055556 0.83055556 0.83194444 0.83194444\n",
      " 0.83333333 0.83333333 0.83472222 0.83472222 0.83611111 0.83611111\n",
      " 0.8375     0.8375     0.83888889 0.83888889 0.84027778 0.84027778\n",
      " 0.84166667 0.84166667 0.84305556 0.84305556 0.84444444 0.84444444\n",
      " 0.84722222 0.84722222 0.84861111 0.84861111 0.85       0.85\n",
      " 0.85277778 0.85277778 0.85416667 0.85416667 0.85555556 0.85555556\n",
      " 0.85694444 0.85694444 0.85833333 0.85833333 0.85972222 0.85972222\n",
      " 0.86111111 0.86111111 0.8625     0.8625     0.86388889 0.86388889\n",
      " 0.86527778 0.86527778 0.86666667 0.86666667 0.86805556 0.86805556\n",
      " 0.86944444 0.86944444 0.87083333 0.87083333 0.87222222 0.87222222\n",
      " 0.87361111 0.87361111 0.87638889 0.87638889 0.87777778 0.87777778\n",
      " 0.87916667 0.87916667 0.88055556 0.88055556 0.88194444 0.88194444\n",
      " 0.88333333 0.88333333 0.88472222 0.88472222 0.88611111 0.88611111\n",
      " 0.8875     0.8875     0.89027778 0.89027778 0.89166667 0.89166667\n",
      " 0.89444444 0.89444444 0.89583333 0.89583333 0.89722222 0.89722222\n",
      " 0.89861111 0.89861111 0.9        0.9        0.90138889 0.90138889\n",
      " 0.90277778 0.90277778 0.90416667 0.90416667 0.90555556 0.90555556\n",
      " 0.90694444 0.90694444 0.90833333 0.90833333 0.90972222 0.90972222\n",
      " 0.91111111 0.91111111 0.9125     0.9125     0.91388889 0.91388889\n",
      " 0.91527778 0.91527778 0.91666667 0.91666667 0.91805556 0.91805556\n",
      " 0.91944444 0.91944444 0.92083333 0.92083333 0.92222222 0.92222222\n",
      " 0.92361111 0.92361111 0.925      0.925      0.92638889 0.92638889\n",
      " 0.92777778 0.92777778 0.92916667 0.92916667 0.93055556 0.93055556\n",
      " 0.93194444 0.93194444 0.93333333 0.93333333 0.93472222 0.93472222\n",
      " 0.9375     0.9375     0.93888889 0.93888889 0.94027778 0.94027778\n",
      " 0.94166667 0.94166667 0.94305556 0.94305556 0.94444444 0.94444444\n",
      " 0.94583333 0.94583333 0.94722222 0.94722222 0.94861111 0.94861111\n",
      " 0.95       0.95       0.95138889 0.95138889 0.95277778 0.95277778\n",
      " 0.95416667 0.95416667 0.95555556 0.95555556 0.95694444 0.95694444\n",
      " 0.95833333 0.95833333 0.95972222 0.95972222 0.96111111 0.96111111\n",
      " 0.9625     0.9625     0.96388889 0.96388889 0.96527778 0.96527778\n",
      " 0.96666667 0.96666667 0.96805556 0.96805556 0.96944444 0.96944444\n",
      " 0.97083333 0.97083333 0.97222222 0.97222222 0.97361111 0.97361111\n",
      " 0.975      0.975      0.97638889 0.97638889 0.97777778 0.97777778\n",
      " 0.97916667 0.97916667 0.98055556 0.98055556 0.98194444 0.98194444\n",
      " 0.98333333 0.98333333 0.98472222 0.98472222 0.98611111 0.98611111\n",
      " 0.9875     0.9875     0.98888889 0.98888889 0.99027778 0.99027778\n",
      " 0.99166667 0.99166667 0.99305556 0.99305556 0.99444444 0.99444444\n",
      " 0.99583333 0.99583333 0.99722222 0.99722222 0.99861111 0.99861111\n",
      " 1.         1.        ]\n"
     ]
    }
   ],
   "source": [
    "\n",
    "fpr_xg, tpr_xg, thresholds_xg = metrics.roc_curve(y_test_gray, y_predict_prob_xg[:,1], pos_label=1)\n",
    "\n",
    "print(fpr_xg)\n",
    "print(\"\\n\")\n",
    "print(tpr_xg)"
   ]
  },
  {
   "cell_type": "markdown",
   "metadata": {},
   "source": [
    "### AUC:"
   ]
  },
  {
   "cell_type": "code",
   "execution_count": 41,
   "metadata": {},
   "outputs": [
    {
     "name": "stdout",
     "output_type": "stream",
     "text": [
      "0.9799053083310011\n"
     ]
    }
   ],
   "source": [
    "# AUC:\n",
    "AUC_xg = metrics.auc(fpr_xg, tpr_xg)\n",
    "print(AUC_xg)"
   ]
  },
  {
   "cell_type": "markdown",
   "metadata": {},
   "source": [
    "### ROC Curve:"
   ]
  },
  {
   "cell_type": "code",
   "execution_count": 42,
   "metadata": {},
   "outputs": [
    {
     "data": {
      "image/png": "[encoded data removed]",
      "text/plain": [
       "<Figure size 432x288 with 1 Axes>"
      ]
     },
     "metadata": {
      "needs_background": "light"
     },
     "output_type": "display_data"
    }
   ],
   "source": [
    "plt.figure()\n",
    "\n",
    "# Roc Curve:\n",
    "plt.plot(fpr_xg, tpr_xg, color='red', lw=2, label='XG - ROC Curve (area = %0.2f)' % AUC_xg)\n",
    "\n",
    "# Random Guess line:\n",
    "plt.plot([0, 1], [0, 1], color='blue', lw=1, linestyle='--')\n",
    "\n",
    "# Defining The Range of X-Axis and Y-Axis:\n",
    "plt.xlim([-0.005, 1.005])\n",
    "plt.ylim([0.0, 1.01])\n",
    "\n",
    "# Labels, Title, Legend:\n",
    "plt.xlabel('False Positive Rate')\n",
    "plt.ylabel('True Positive Rate')\n",
    "plt.title('Receiver operating characteristic')\n",
    "plt.legend(loc=\"lower right\")\n",
    "\n",
    "plt.show()"
   ]
  },
  {
   "cell_type": "markdown",
   "metadata": {},
   "source": [
    "#  Comparing the ROC Curves:"
   ]
  },
  {
   "cell_type": "code",
   "execution_count": 43,
   "metadata": {},
   "outputs": [
    {
     "data": {
      "image/png": "[encoded data removed]",
      "text/plain": [
       "<Figure size 432x288 with 1 Axes>"
      ]
     },
     "metadata": {
      "needs_background": "light"
     },
     "output_type": "display_data"
    }
   ],
   "source": [
    "plt.figure()\n",
    "\n",
    "# Roc Curve: Logistic Regression\n",
    "plt.plot(fpr_lr, tpr_lr, color='red', lw=2, label='ROC Curve LR (area = %0.2f)' % AUC_lr)\n",
    "\n",
    "# Roc Curve: Decision Tree Classifier\n",
    "plt.plot(fpr_dt, tpr_dt, color='magenta', lw=2, label='ROC Curve DT (area = %0.2f)' % AUC_dt)\n",
    "\n",
    "# Roc Curve: Random Forest Classifier\n",
    "plt.plot(fpr_rf, tpr_rf, color='green', lw=2, label='ROC Curve RF (area = %0.2f)' % AUC_rf)\n",
    "\n",
    "# Roc Curve: Adaboost Classifier\n",
    "plt.plot(fpr_ad, tpr_ad, color='cyan', lw=2, label='ROC Curve AD (area = %0.2f)' % AUC_ad)\n",
    "\n",
    "# Roc Curve: XGBoost Classifier\n",
    "plt.plot(fpr_xg, tpr_xg, color='yellow', lw=2, label='ROC Curve XG (area = %0.2f)' % AUC_xg)\n",
    "\n",
    "\n",
    "# Random Guess line:\n",
    "plt.plot([0, 1], [0, 1], color='blue', lw=1, linestyle='--')\n",
    "\n",
    "# Defining The Range of X-Axis and Y-Axis:\n",
    "plt.xlim([-0.005, 1.05])\n",
    "plt.ylim([0.0, 1.05])\n",
    "\n",
    "# Labels, Title, Legend:\n",
    "plt.xlabel('False Positive Rate')\n",
    "plt.ylabel('True Positive Rate')\n",
    "plt.title('Receiver operating characteristic')\n",
    "plt.legend(loc=\"lower right\")\n",
    "\n",
    "plt.show()"
   ]
  },
  {
   "cell_type": "markdown",
   "metadata": {
    "collapsed": true
   },
   "source": [
    "#   \n",
    "# Cross-Validation"
   ]
  },
  {
   "cell_type": "markdown",
   "metadata": {},
   "source": [
    "## Combine training and testing data :\n"
   ]
  },
  {
   "cell_type": "code",
   "execution_count": 25,
   "metadata": {},
   "outputs": [],
   "source": [
    "X_new = np.concatenate((X_train_gray, X_test_gray))\n",
    "y_new = np.concatenate((y_train_gray, y_test_gray))"
   ]
  },
  {
   "cell_type": "code",
   "execution_count": 26,
   "metadata": {},
   "outputs": [
    {
     "data": {
      "text/plain": [
       "array([[-0.59255351, -0.48713397, -0.52921723, ..., -0.35216126,\n",
       "        -0.1412604 , -0.24908881],\n",
       "       [ 0.40507732,  0.87800471,  1.57016444, ...,  1.73709442,\n",
       "         1.69009929,  2.02650958],\n",
       "       [ 0.4575842 ,  1.15365771,  0.94034994, ..., -0.47783077,\n",
       "        -0.45701207, -0.45310797],\n",
       "       ...,\n",
       "       [ 0.1932013 ,  0.01714963,  0.95272565, ...,  0.9497528 ,\n",
       "         0.85798182,  0.17091457],\n",
       "       [-0.49833476, -0.6322847 , -0.61976803, ..., -0.43242756,\n",
       "        -0.43029419, -0.46146959],\n",
       "       [-0.22714415, -0.05049978, -0.22664461, ..., -0.14970885,\n",
       "         1.60300891,  2.05264308]])"
      ]
     },
     "execution_count": 26,
     "metadata": {},
     "output_type": "execute_result"
    }
   ],
   "source": [
    "X_new"
   ]
  },
  {
   "cell_type": "code",
   "execution_count": 27,
   "metadata": {},
   "outputs": [
    {
     "data": {
      "text/plain": [
       "array([ 6, 33, 17, ...,  4,  1, 38])"
      ]
     },
     "execution_count": 27,
     "metadata": {},
     "output_type": "execute_result"
    }
   ],
   "source": [
    "y_new"
   ]
  },
  {
   "cell_type": "code",
   "execution_count": 28,
   "metadata": {},
   "outputs": [
    {
     "name": "stdout",
     "output_type": "stream",
     "text": [
      "X: (51839, 1024)\n",
      "y: (51839,)\n"
     ]
    }
   ],
   "source": [
    "print(\"X:\",X_new.shape)\n",
    "print(\"y:\",y_new.shape)"
   ]
  },
  {
   "cell_type": "markdown",
   "metadata": {},
   "source": [
    "### Applying 10-fold Cross Validation for \"Decision Tree\" classifier:\n"
   ]
  },
  {
   "cell_type": "code",
   "execution_count": 29,
   "metadata": {},
   "outputs": [
    {
     "name": "stdout",
     "output_type": "stream",
     "text": [
      "Cross-Validation Accuracy:  [0.77527006 0.78472222 0.77430556 0.78279321 0.77719907 0.77488426\n",
      " 0.77411265 0.77006173 0.75154321 0.73162261] \n",
      "\n",
      "CPU times: user 8min 52s, sys: 2.83 s, total: 8min 55s\n",
      "Wall time: 8min 56s\n"
     ]
    }
   ],
   "source": [
    "%%time\n",
    "\n",
    "from sklearn.model_selection import cross_val_score\n",
    "\n",
    "my_decisiontree = DecisionTreeClassifier(random_state=1)\n",
    "accuracy_list = cross_val_score(my_decisiontree,X_new, y_new, cv=10, scoring='accuracy')\n",
    "\n",
    "print('Cross-Validation Accuracy: ',accuracy_list,'\\n')"
   ]
  },
  {
   "cell_type": "code",
   "execution_count": 30,
   "metadata": {},
   "outputs": [
    {
     "name": "stdout",
     "output_type": "stream",
     "text": [
      "Cross-Validation Accuracy for Decision Tree:  0.7696514587695291\n"
     ]
    }
   ],
   "source": [
    "# display accuracy\n",
    "accuracy_cv = accuracy_list.mean()\n",
    "\n",
    "print(\"Cross-Validation Accuracy for Decision Tree: \",accuracy_cv)"
   ]
  },
  {
   "cell_type": "markdown",
   "metadata": {},
   "source": [
    "### Applying 10-fold Cross Validation for \"Logistic Regression\" classifier:\n"
   ]
  },
  {
   "cell_type": "code",
   "execution_count": 31,
   "metadata": {},
   "outputs": [
    {
     "name": "stderr",
     "output_type": "stream",
     "text": [
      "/opt/anaconda3/lib/python3.8/site-packages/sklearn/linear_model/_logistic.py:762: ConvergenceWarning: lbfgs failed to converge (status=1):\n",
      "STOP: TOTAL NO. of ITERATIONS REACHED LIMIT.\n",
      "\n",
      "Increase the number of iterations (max_iter) or scale the data as shown in:\n",
      "    https://scikit-learn.org/stable/modules/preprocessing.html\n",
      "Please also refer to the documentation for alternative solver options:\n",
      "    https://scikit-learn.org/stable/modules/linear_model.html#logistic-regression\n",
      "  n_iter_i = _check_optimize_result(\n",
      "/opt/anaconda3/lib/python3.8/site-packages/sklearn/linear_model/_logistic.py:762: ConvergenceWarning: lbfgs failed to converge (status=1):\n",
      "STOP: TOTAL NO. of ITERATIONS REACHED LIMIT.\n",
      "\n",
      "Increase the number of iterations (max_iter) or scale the data as shown in:\n",
      "    https://scikit-learn.org/stable/modules/preprocessing.html\n",
      "Please also refer to the documentation for alternative solver options:\n",
      "    https://scikit-learn.org/stable/modules/linear_model.html#logistic-regression\n",
      "  n_iter_i = _check_optimize_result(\n",
      "/opt/anaconda3/lib/python3.8/site-packages/sklearn/linear_model/_logistic.py:762: ConvergenceWarning: lbfgs failed to converge (status=1):\n",
      "STOP: TOTAL NO. of ITERATIONS REACHED LIMIT.\n",
      "\n",
      "Increase the number of iterations (max_iter) or scale the data as shown in:\n",
      "    https://scikit-learn.org/stable/modules/preprocessing.html\n",
      "Please also refer to the documentation for alternative solver options:\n",
      "    https://scikit-learn.org/stable/modules/linear_model.html#logistic-regression\n",
      "  n_iter_i = _check_optimize_result(\n",
      "/opt/anaconda3/lib/python3.8/site-packages/sklearn/linear_model/_logistic.py:762: ConvergenceWarning: lbfgs failed to converge (status=1):\n",
      "STOP: TOTAL NO. of ITERATIONS REACHED LIMIT.\n",
      "\n",
      "Increase the number of iterations (max_iter) or scale the data as shown in:\n",
      "    https://scikit-learn.org/stable/modules/preprocessing.html\n",
      "Please also refer to the documentation for alternative solver options:\n",
      "    https://scikit-learn.org/stable/modules/linear_model.html#logistic-regression\n",
      "  n_iter_i = _check_optimize_result(\n",
      "/opt/anaconda3/lib/python3.8/site-packages/sklearn/linear_model/_logistic.py:762: ConvergenceWarning: lbfgs failed to converge (status=1):\n",
      "STOP: TOTAL NO. of ITERATIONS REACHED LIMIT.\n",
      "\n",
      "Increase the number of iterations (max_iter) or scale the data as shown in:\n",
      "    https://scikit-learn.org/stable/modules/preprocessing.html\n",
      "Please also refer to the documentation for alternative solver options:\n",
      "    https://scikit-learn.org/stable/modules/linear_model.html#logistic-regression\n",
      "  n_iter_i = _check_optimize_result(\n",
      "/opt/anaconda3/lib/python3.8/site-packages/sklearn/linear_model/_logistic.py:762: ConvergenceWarning: lbfgs failed to converge (status=1):\n",
      "STOP: TOTAL NO. of ITERATIONS REACHED LIMIT.\n",
      "\n",
      "Increase the number of iterations (max_iter) or scale the data as shown in:\n",
      "    https://scikit-learn.org/stable/modules/preprocessing.html\n",
      "Please also refer to the documentation for alternative solver options:\n",
      "    https://scikit-learn.org/stable/modules/linear_model.html#logistic-regression\n",
      "  n_iter_i = _check_optimize_result(\n",
      "/opt/anaconda3/lib/python3.8/site-packages/sklearn/linear_model/_logistic.py:762: ConvergenceWarning: lbfgs failed to converge (status=1):\n",
      "STOP: TOTAL NO. of ITERATIONS REACHED LIMIT.\n",
      "\n",
      "Increase the number of iterations (max_iter) or scale the data as shown in:\n",
      "    https://scikit-learn.org/stable/modules/preprocessing.html\n",
      "Please also refer to the documentation for alternative solver options:\n",
      "    https://scikit-learn.org/stable/modules/linear_model.html#logistic-regression\n",
      "  n_iter_i = _check_optimize_result(\n",
      "/opt/anaconda3/lib/python3.8/site-packages/sklearn/linear_model/_logistic.py:762: ConvergenceWarning: lbfgs failed to converge (status=1):\n",
      "STOP: TOTAL NO. of ITERATIONS REACHED LIMIT.\n",
      "\n",
      "Increase the number of iterations (max_iter) or scale the data as shown in:\n",
      "    https://scikit-learn.org/stable/modules/preprocessing.html\n",
      "Please also refer to the documentation for alternative solver options:\n",
      "    https://scikit-learn.org/stable/modules/linear_model.html#logistic-regression\n",
      "  n_iter_i = _check_optimize_result(\n",
      "/opt/anaconda3/lib/python3.8/site-packages/sklearn/linear_model/_logistic.py:762: ConvergenceWarning: lbfgs failed to converge (status=1):\n",
      "STOP: TOTAL NO. of ITERATIONS REACHED LIMIT.\n",
      "\n",
      "Increase the number of iterations (max_iter) or scale the data as shown in:\n",
      "    https://scikit-learn.org/stable/modules/preprocessing.html\n",
      "Please also refer to the documentation for alternative solver options:\n",
      "    https://scikit-learn.org/stable/modules/linear_model.html#logistic-regression\n",
      "  n_iter_i = _check_optimize_result(\n"
     ]
    },
    {
     "name": "stdout",
     "output_type": "stream",
     "text": [
      "\n",
      " Cross-Validation Accuracy:  [0.9054784  0.91377315 0.90239198 0.91493056 0.9066358  0.90297068\n",
      " 0.91087963 0.90354938 0.88618827 0.87999228]\n",
      "CPU times: user 44min 19s, sys: 1min 56s, total: 46min 16s\n",
      "Wall time: 4min 53s\n"
     ]
    },
    {
     "name": "stderr",
     "output_type": "stream",
     "text": [
      "/opt/anaconda3/lib/python3.8/site-packages/sklearn/linear_model/_logistic.py:762: ConvergenceWarning: lbfgs failed to converge (status=1):\n",
      "STOP: TOTAL NO. of ITERATIONS REACHED LIMIT.\n",
      "\n",
      "Increase the number of iterations (max_iter) or scale the data as shown in:\n",
      "    https://scikit-learn.org/stable/modules/preprocessing.html\n",
      "Please also refer to the documentation for alternative solver options:\n",
      "    https://scikit-learn.org/stable/modules/linear_model.html#logistic-regression\n",
      "  n_iter_i = _check_optimize_result(\n"
     ]
    }
   ],
   "source": [
    "%%time\n",
    "\n",
    "my_logreg_cv = LogisticRegression()\n",
    "accuracy_list_cv_lr = cross_val_score(my_logreg_cv,X_new, y_new, cv=10, scoring='accuracy')\n",
    "\n",
    "print('\\n','Cross-Validation Accuracy: ',accuracy_list_cv_lr)"
   ]
  },
  {
   "cell_type": "code",
   "execution_count": 32,
   "metadata": {},
   "outputs": [
    {
     "name": "stdout",
     "output_type": "stream",
     "text": [
      "Cross-Validation Accuracy for Logistic Regression:  0.7696514587695291\n"
     ]
    }
   ],
   "source": [
    "# display accuracy\n",
    "accuracy_cv_lr = accuracy_list_cv_lr.mean()\n",
    "\n",
    "print(\"Cross-Validation Accuracy for Logistic Regression: \",accuracy_cv)"
   ]
  },
  {
   "cell_type": "code",
   "execution_count": null,
   "metadata": {},
   "outputs": [],
   "source": []
  },
  {
   "cell_type": "code",
   "execution_count": null,
   "metadata": {},
   "outputs": [],
   "source": []
  }
 ],
 "metadata": {
  "kernelspec": {
   "display_name": "Python 3",
   "language": "python",
   "name": "python3"
  },
  "language_info": {
   "codemirror_mode": {
    "name": "ipython",
    "version": 3
   },
   "file_extension": ".py",
   "mimetype": "text/x-python",
   "name": "python",
   "nbconvert_exporter": "python",
   "pygments_lexer": "ipython3",
   "version": "3.8.3"
  }
 },
 "nbformat": 4,
 "nbformat_minor": 4
}
