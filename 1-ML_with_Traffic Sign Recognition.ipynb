{
 "cells": [
  {
   "cell_type": "markdown",
   "metadata": {},
   "source": [
    "--------------------------------------------------------------\n",
    "# Apply Machine Learning Algorithms :\n",
    "\n",
    "\n",
    " #### 1) Logistic Regression\n",
    " #### 2) Decision Tree Classifier\n",
    " #### 3) Random Forest Classifier\n",
    " #### 4) Adaboost Classifier\n",
    " #### 5) XGBoost Classifier"
   ]
  },
  {
   "cell_type": "code",
   "execution_count": 1,
   "metadata": {},
   "outputs": [],
   "source": [
    "# Importing libraries and packages:\n",
    "\n",
    "from sklearn.utils import resample\n",
    "from sklearn.metrics import accuracy_score\n",
    "from sklearn import metrics\n",
    "\n",
    "# Importing the required packages and libraries\n",
    "import numpy as np\n",
    "import pandas as pd\n",
    "import matplotlib.pyplot as plt\n",
    "\n",
    "\n",
    "from pickle import dump, load\n",
    "from keras.utils import np_utils\n",
    "\n",
    "%matplotlib inline"
   ]
  },
  {
   "cell_type": "code",
   "execution_count": 2,
   "metadata": {},
   "outputs": [],
   "source": [
    "# Collect data\n",
    "pickle_dir = 'TFS_Dataset/Pickle/'"
   ]
  },
  {
   "cell_type": "code",
   "execution_count": 3,
   "metadata": {},
   "outputs": [],
   "source": [
    "# Number of total classes\n",
    "NUM_CATEGORIES = 43\n",
    "\n",
    "\n",
    "# Resizing the images to 32x32x3\n",
    "img_height = 32\n",
    "img_width = 32\n",
    "channels = 3\n",
    "\n",
    "# reshape image size\n",
    "n_features = 1024  ## 32 * 32 = 1024"
   ]
  },
  {
   "cell_type": "markdown",
   "metadata": {},
   "source": [
    "## Load Pickle file data\n"
   ]
  },
  {
   "cell_type": "code",
   "execution_count": 4,
   "metadata": {},
   "outputs": [],
   "source": [
    "# Load all Training images & label data\n",
    "fid = open((pickle_dir+'X_train_y_train_gray.pkl'), 'rb')\n",
    "X_train_gray,y_train_gray = load(fid)\n",
    "fid.close()\n",
    "\n",
    "# Load all Testing images & label data\n",
    "fid = open((pickle_dir+'X_test_y_test_gray.pkl'), 'rb')\n",
    "X_test_gray,y_test_gray = load(fid)\n",
    "fid.close()\n",
    "\n",
    "# Load Traffic sign Classes\n",
    "fid = open((pickle_dir+'Traffic_sign_Classes.pkl'), 'rb')\n",
    "traffic_classes = load(fid)\n",
    "fid.close()"
   ]
  },
  {
   "cell_type": "markdown",
   "metadata": {},
   "source": [
    "## Summary"
   ]
  },
  {
   "cell_type": "code",
   "execution_count": 5,
   "metadata": {
    "scrolled": false
   },
   "outputs": [
    {
     "name": "stdout",
     "output_type": "stream",
     "text": [
      "Number of Training examples = 39209\n",
      "Number of Testing examples = 12630\n",
      "Image data shape = (39209, 32, 32)\n",
      "Number of classes = 43\n"
     ]
    }
   ],
   "source": [
    "print(\"Number of Training examples =\", len(X_train_gray))\n",
    "print(\"Number of Testing examples =\", len(X_test_gray))\n",
    "print(\"Image data shape =\", (X_train_gray.shape))\n",
    "print(\"Number of classes =\", len(traffic_classes))"
   ]
  },
  {
   "cell_type": "markdown",
   "metadata": {},
   "source": [
    "## Reshape training, testing and validation data\n"
   ]
  },
  {
   "cell_type": "code",
   "execution_count": 6,
   "metadata": {},
   "outputs": [
    {
     "name": "stdout",
     "output_type": "stream",
     "text": [
      "X_train_gray shape before reshape :  (39209, 32, 32)\n",
      "X_test_gray shape before reshape:  (12630, 32, 32)\n"
     ]
    }
   ],
   "source": [
    "print(\"X_train_gray shape before reshape : \",X_train_gray.shape)\n",
    "print(\"X_test_gray shape before reshape: \",X_test_gray.shape)"
   ]
  },
  {
   "cell_type": "code",
   "execution_count": 7,
   "metadata": {},
   "outputs": [],
   "source": [
    "# building the input vector from the 32x32 pixels\n",
    "X_train_gray = X_train_gray.reshape(X_train_gray.shape[0], n_features)\n",
    "X_test_gray = X_test_gray.reshape(X_test_gray.shape[0], n_features)"
   ]
  },
  {
   "cell_type": "code",
   "execution_count": 8,
   "metadata": {},
   "outputs": [
    {
     "name": "stdout",
     "output_type": "stream",
     "text": [
      "X_train_gray shape after reshape :  (39209, 1024)\n",
      "X_test_gray shape after reshape:  (12630, 1024)\n"
     ]
    }
   ],
   "source": [
    "print(\"X_train_gray shape after reshape : \",X_train_gray.shape)\n",
    "print(\"X_test_gray shape after reshape: \",X_test_gray.shape)\n"
   ]
  },
  {
   "cell_type": "code",
   "execution_count": 9,
   "metadata": {},
   "outputs": [
    {
     "data": {
      "text/plain": [
       "array([[ 43,  51,  48, ...,  46,  59,  52],\n",
       "       [119, 155, 208, ..., 179, 175, 197],\n",
       "       [123, 176, 160, ...,  38,  39,  39],\n",
       "       ...,\n",
       "       [255, 255, 252, ..., 226, 221, 222],\n",
       "       [109, 128, 202, ...,  46,  49,  46],\n",
       "       [174, 204, 203, ..., 105, 101, 100]], dtype=uint8)"
      ]
     },
     "execution_count": 9,
     "metadata": {},
     "output_type": "execute_result"
    }
   ],
   "source": [
    "X_train_gray"
   ]
  },
  {
   "cell_type": "code",
   "execution_count": 10,
   "metadata": {},
   "outputs": [
    {
     "name": "stdout",
     "output_type": "stream",
     "text": [
      "y_train : (39209,)\n",
      "y_test : (12630,)\n"
     ]
    }
   ],
   "source": [
    "print(\"y_train :\",y_train_gray.shape)\n",
    "print(\"y_test :\",y_test_gray.shape)"
   ]
  },
  {
   "cell_type": "markdown",
   "metadata": {
    "collapsed": true
   },
   "source": [
    "# 1 - Logistic Regression"
   ]
  },
  {
   "cell_type": "code",
   "execution_count": 18,
   "metadata": {},
   "outputs": [],
   "source": [
    "# import Logistic Regression \n",
    "from sklearn.linear_model import LogisticRegression"
   ]
  },
  {
   "cell_type": "code",
   "execution_count": 55,
   "metadata": {},
   "outputs": [
    {
     "name": "stdout",
     "output_type": "stream",
     "text": [
      "[12 13  1 ...  5  1 38]\n"
     ]
    },
    {
     "name": "stderr",
     "output_type": "stream",
     "text": [
      "/opt/anaconda3/lib/python3.8/site-packages/sklearn/linear_model/_logistic.py:762: ConvergenceWarning: lbfgs failed to converge (status=1):\n",
      "STOP: TOTAL NO. of ITERATIONS REACHED LIMIT.\n",
      "\n",
      "Increase the number of iterations (max_iter) or scale the data as shown in:\n",
      "    https://scikit-learn.org/stable/modules/preprocessing.html\n",
      "Please also refer to the documentation for alternative solver options:\n",
      "    https://scikit-learn.org/stable/modules/linear_model.html#logistic-regression\n",
      "  n_iter_i = _check_optimize_result(\n"
     ]
    }
   ],
   "source": [
    "# import Logistic Regression \n",
    "from sklearn.linear_model import LogisticRegression\n",
    "\n",
    "my_logreg = LogisticRegression()\n",
    "my_logreg.fit(X_train_gray, y_train_gray)\n",
    "\n",
    "# Prediction on the testing set:\n",
    "y_predict_lr = my_logreg.predict(X_test_gray)\n",
    "print(y_predict_lr)"
   ]
  },
  {
   "cell_type": "markdown",
   "metadata": {},
   "source": [
    "### Accuracy Evaluation:\n"
   ]
  },
  {
   "cell_type": "code",
   "execution_count": 56,
   "metadata": {},
   "outputs": [
    {
     "name": "stdout",
     "output_type": "stream",
     "text": [
      "Logistic Regression  accuracy:  0.8083927157561361\n"
     ]
    }
   ],
   "source": [
    "# display accuracy\n",
    "score_lr = accuracy_score(y_test_gray, y_predict_lr)\n",
    "\n",
    "print(\"Logistic Regression  accuracy: \",score_lr)\n"
   ]
  },
  {
   "cell_type": "markdown",
   "metadata": {},
   "source": [
    "### Estimating the Probability (likelihood) of happening an Event: "
   ]
  },
  {
   "cell_type": "code",
   "execution_count": 57,
   "metadata": {},
   "outputs": [
    {
     "name": "stdout",
     "output_type": "stream",
     "text": [
      "[12 13  1 ...  5  1 38]\n",
      "[2.04915717e-05 2.50406312e-08 9.95299920e-01 ... 9.86042554e-02\n",
      " 9.50710040e-01 2.35794018e-14]\n"
     ]
    }
   ],
   "source": [
    "# Estimating the probability (likelihood) of Each Label: \n",
    "y_predict_prob_lr = my_logreg.predict_proba(X_test_gray)\n",
    "\n",
    "print(y_predict_lr)\n",
    "print(y_predict_prob_lr[:,1])\n"
   ]
  },
  {
   "cell_type": "markdown",
   "metadata": {},
   "source": [
    "### True Positive Rate (TPR) and False Positive Rate (FPR):"
   ]
  },
  {
   "cell_type": "code",
   "execution_count": 64,
   "metadata": {},
   "outputs": [
    {
     "name": "stdout",
     "output_type": "stream",
     "text": [
      "[0.00000000e+00 0.00000000e+00 0.00000000e+00 1.67926113e-04\n",
      " 1.67926113e-04 2.51889169e-04 2.51889169e-04 3.35852225e-04\n",
      " 3.35852225e-04 4.19815281e-04 4.19815281e-04 6.71704450e-04\n",
      " 6.71704450e-04 8.39630563e-04 8.39630563e-04 9.23593619e-04\n",
      " 9.23593619e-04 1.00755668e-03 1.00755668e-03 1.17548279e-03\n",
      " 1.17548279e-03 1.25944584e-03 1.25944584e-03 1.59529807e-03\n",
      " 1.59529807e-03 1.76322418e-03 1.76322418e-03 1.93115029e-03\n",
      " 1.93115029e-03 2.01511335e-03 2.01511335e-03 2.09907641e-03\n",
      " 2.09907641e-03 2.18303946e-03 2.18303946e-03 2.26700252e-03\n",
      " 2.26700252e-03 2.35096558e-03 2.35096558e-03 2.43492863e-03\n",
      " 2.43492863e-03 2.60285474e-03 2.60285474e-03 2.68681780e-03\n",
      " 2.68681780e-03 2.77078086e-03 2.77078086e-03 2.85474391e-03\n",
      " 2.85474391e-03 2.93870697e-03 2.93870697e-03 3.02267003e-03\n",
      " 3.02267003e-03 3.10663308e-03 3.10663308e-03 3.19059614e-03\n",
      " 3.19059614e-03 3.27455919e-03 3.27455919e-03 3.35852225e-03\n",
      " 3.35852225e-03 3.44248531e-03 3.44248531e-03 3.52644836e-03\n",
      " 3.52644836e-03 3.61041142e-03 3.61041142e-03 3.69437448e-03\n",
      " 3.69437448e-03 3.86230059e-03 3.86230059e-03 3.94626364e-03\n",
      " 3.94626364e-03 4.03022670e-03 4.03022670e-03 4.11418976e-03\n",
      " 4.11418976e-03 4.19815281e-03 4.19815281e-03 4.36607893e-03\n",
      " 4.36607893e-03 4.45004198e-03 4.45004198e-03 4.61796809e-03\n",
      " 4.61796809e-03 4.70193115e-03 4.70193115e-03 4.78589421e-03\n",
      " 4.78589421e-03 4.86985726e-03 4.86985726e-03 4.95382032e-03\n",
      " 4.95382032e-03 5.03778338e-03 5.03778338e-03 5.20570949e-03\n",
      " 5.20570949e-03 5.28967254e-03 5.28967254e-03 5.37363560e-03\n",
      " 5.37363560e-03 5.45759866e-03 5.45759866e-03 5.54156171e-03\n",
      " 5.54156171e-03 5.62552477e-03 5.62552477e-03 5.70948783e-03\n",
      " 5.70948783e-03 5.79345088e-03 5.79345088e-03 5.87741394e-03\n",
      " 5.87741394e-03 5.96137699e-03 5.96137699e-03 6.04534005e-03\n",
      " 6.04534005e-03 6.12930311e-03 6.12930311e-03 6.29722922e-03\n",
      " 6.29722922e-03 6.38119228e-03 6.38119228e-03 6.46515533e-03\n",
      " 6.46515533e-03 6.63308144e-03 6.63308144e-03 6.71704450e-03\n",
      " 6.71704450e-03 6.88497061e-03 6.88497061e-03 6.96893367e-03\n",
      " 6.96893367e-03 7.05289673e-03 7.05289673e-03 7.13685978e-03\n",
      " 7.13685978e-03 7.22082284e-03 7.22082284e-03 7.30478589e-03\n",
      " 7.30478589e-03 7.38874895e-03 7.38874895e-03 7.47271201e-03\n",
      " 7.47271201e-03 7.80856423e-03 7.80856423e-03 7.89252729e-03\n",
      " 7.89252729e-03 7.97649034e-03 7.97649034e-03 8.06045340e-03\n",
      " 8.06045340e-03 8.22837951e-03 8.22837951e-03 8.31234257e-03\n",
      " 8.31234257e-03 8.39630563e-03 8.39630563e-03 8.56423174e-03\n",
      " 8.56423174e-03 8.73215785e-03 8.73215785e-03 8.98404702e-03\n",
      " 8.98404702e-03 9.06801008e-03 9.06801008e-03 9.15197313e-03\n",
      " 9.15197313e-03 9.31989924e-03 9.31989924e-03 9.48782536e-03\n",
      " 9.48782536e-03 9.57178841e-03 9.57178841e-03 9.90764064e-03\n",
      " 9.90764064e-03 1.00755668e-02 1.00755668e-02 1.02434929e-02\n",
      " 1.02434929e-02 1.04114190e-02 1.04114190e-02 1.04953820e-02\n",
      " 1.04953820e-02 1.05793451e-02 1.05793451e-02 1.08312343e-02\n",
      " 1.08312343e-02 1.09151973e-02 1.09151973e-02 1.09991604e-02\n",
      " 1.09991604e-02 1.10831234e-02 1.10831234e-02 1.13350126e-02\n",
      " 1.13350126e-02 1.14189757e-02 1.14189757e-02 1.15029387e-02\n",
      " 1.15029387e-02 1.15869018e-02 1.15869018e-02 1.18387909e-02\n",
      " 1.18387909e-02 1.20067170e-02 1.20067170e-02 1.20906801e-02\n",
      " 1.20906801e-02 1.21746432e-02 1.21746432e-02 1.25104954e-02\n",
      " 1.25104954e-02 1.25944584e-02 1.25944584e-02 1.27623846e-02\n",
      " 1.27623846e-02 1.30142737e-02 1.30142737e-02 1.31821998e-02\n",
      " 1.31821998e-02 1.33501259e-02 1.33501259e-02 1.34340890e-02\n",
      " 1.34340890e-02 1.36020151e-02 1.36020151e-02 1.36859782e-02\n",
      " 1.36859782e-02 1.37699412e-02 1.37699412e-02 1.39378673e-02\n",
      " 1.39378673e-02 1.40218304e-02 1.40218304e-02 1.41057935e-02\n",
      " 1.41057935e-02 1.43576826e-02 1.43576826e-02 1.45256087e-02\n",
      " 1.45256087e-02 1.46935348e-02 1.46935348e-02 1.47774979e-02\n",
      " 1.47774979e-02 1.48614610e-02 1.48614610e-02 1.50293871e-02\n",
      " 1.50293871e-02 1.68765743e-02 1.68765743e-02 1.70445004e-02\n",
      " 1.70445004e-02 1.78841310e-02 1.78841310e-02 1.81360202e-02\n",
      " 1.81360202e-02 1.82199832e-02 1.82199832e-02 1.85558354e-02\n",
      " 1.85558354e-02 1.90596138e-02 1.90596138e-02 1.92275399e-02\n",
      " 1.92275399e-02 1.93115029e-02 1.93115029e-02 2.02350966e-02\n",
      " 2.02350966e-02 2.03190596e-02 2.03190596e-02 2.07388749e-02\n",
      " 2.07388749e-02 2.12426532e-02 2.12426532e-02 2.14105793e-02\n",
      " 2.14105793e-02 2.21662469e-02 2.21662469e-02 2.30058774e-02\n",
      " 2.30058774e-02 2.34256927e-02 2.34256927e-02 2.35936188e-02\n",
      " 2.35936188e-02 2.36775819e-02 2.36775819e-02 2.50209908e-02\n",
      " 2.50209908e-02 2.60285474e-02 2.60285474e-02 2.63643997e-02\n",
      " 2.63643997e-02 2.67842149e-02 2.67842149e-02 2.82955500e-02\n",
      " 2.82955500e-02 2.87153652e-02 2.87153652e-02 2.92191436e-02\n",
      " 2.92191436e-02 3.29974811e-02 3.29974811e-02 3.53484467e-02\n",
      " 3.53484467e-02 4.34089001e-02 4.34089001e-02 4.39126784e-02\n",
      " 4.39126784e-02 4.47523090e-02 4.47523090e-02 4.65994962e-02\n",
      " 4.65994962e-02 5.08816121e-02 5.08816121e-02 5.29806885e-02\n",
      " 5.29806885e-02 5.70109152e-02 5.70109152e-02 6.02015113e-02\n",
      " 6.02015113e-02 6.91855584e-02 6.91855584e-02 7.38035264e-02\n",
      " 7.38035264e-02 7.43912678e-02 7.43912678e-02 7.61544920e-02\n",
      " 7.61544920e-02 8.01007557e-02 8.01007557e-02 8.11083123e-02\n",
      " 8.11083123e-02 8.44668346e-02 8.44668346e-02 8.45507976e-02\n",
      " 8.45507976e-02 8.71536524e-02 8.71536524e-02 8.91687657e-02\n",
      " 8.91687657e-02 9.61376994e-02 9.61376994e-02 9.66414777e-02\n",
      " 9.66414777e-02 1.03526448e-01 1.03526448e-01 1.03946264e-01\n",
      " 1.03946264e-01 1.06297229e-01 1.06297229e-01 1.08480269e-01\n",
      " 1.08480269e-01 1.10579345e-01 1.10579345e-01 1.13685978e-01\n",
      " 1.13685978e-01 1.14945424e-01 1.14945424e-01 1.17044500e-01\n",
      " 1.17044500e-01 1.17968094e-01 1.17968094e-01 1.21998321e-01\n",
      " 1.21998321e-01 1.22250210e-01 1.22250210e-01 1.22334173e-01\n",
      " 1.22334173e-01 1.23677582e-01 1.23677582e-01 1.24517212e-01\n",
      " 1.24517212e-01 1.24937028e-01 1.24937028e-01 1.27204030e-01\n",
      " 1.27204030e-01 1.27539882e-01 1.27539882e-01 1.32073887e-01\n",
      " 1.32073887e-01 1.33333333e-01 1.33333333e-01 1.34256927e-01\n",
      " 1.34256927e-01 1.35096558e-01 1.35096558e-01 1.35432410e-01\n",
      " 1.35432410e-01 1.36523929e-01 1.36523929e-01 1.45507976e-01\n",
      " 1.45507976e-01 1.55331654e-01 1.55331654e-01 1.58690176e-01\n",
      " 1.58690176e-01 1.58942065e-01 1.58942065e-01 1.64903442e-01\n",
      " 1.64903442e-01 1.66414777e-01 1.66414777e-01 1.69521411e-01\n",
      " 1.69521411e-01 1.73131822e-01 1.73131822e-01 1.76910160e-01\n",
      " 1.76910160e-01 1.77413938e-01 1.77413938e-01 1.89084803e-01\n",
      " 1.89084803e-01 1.98656591e-01 1.98656591e-01 2.07136860e-01\n",
      " 2.07136860e-01 2.12342569e-01 2.12342569e-01 2.28967254e-01\n",
      " 2.28967254e-01 2.54072208e-01 2.54072208e-01 2.64987406e-01\n",
      " 2.64987406e-01 2.81780017e-01 2.81780017e-01 2.90092359e-01\n",
      " 2.90092359e-01 2.93450882e-01 2.93450882e-01 3.06381192e-01\n",
      " 3.06381192e-01 3.12258606e-01 3.12258606e-01 3.46095718e-01\n",
      " 3.46095718e-01 4.03862301e-01 4.03862301e-01 4.17380353e-01\n",
      " 4.17380353e-01 4.25356843e-01 4.25356843e-01 4.52896725e-01\n",
      " 4.52896725e-01 5.01427372e-01 5.01427372e-01 5.08648195e-01\n",
      " 5.08648195e-01 5.15785055e-01 5.15785055e-01 5.59445844e-01\n",
      " 5.59445844e-01 5.63979849e-01 5.63979849e-01 5.96221662e-01\n",
      " 5.96221662e-01 6.09907641e-01 6.09907641e-01 6.41645676e-01\n",
      " 6.41645676e-01 6.65827036e-01 6.65827036e-01 8.77078086e-01\n",
      " 8.77078086e-01 1.00000000e+00]\n",
      "[0.         0.00138889 0.00555556 0.00555556 0.01388889 0.01388889\n",
      " 0.05       0.05       0.05555556 0.05555556 0.0625     0.0625\n",
      " 0.06666667 0.06666667 0.07777778 0.07777778 0.08611111 0.08611111\n",
      " 0.09444444 0.09444444 0.11388889 0.11388889 0.12916667 0.12916667\n",
      " 0.15972222 0.15972222 0.16805556 0.16805556 0.21666667 0.21666667\n",
      " 0.225      0.225      0.25138889 0.25138889 0.2625     0.2625\n",
      " 0.28055556 0.28055556 0.29166667 0.29166667 0.29444444 0.29444444\n",
      " 0.30277778 0.30277778 0.30833333 0.30833333 0.31805556 0.31805556\n",
      " 0.325      0.325      0.375      0.375      0.39722222 0.39722222\n",
      " 0.4        0.4        0.40694444 0.40694444 0.40833333 0.40833333\n",
      " 0.42638889 0.42638889 0.42777778 0.42777778 0.45416667 0.45416667\n",
      " 0.46944444 0.46944444 0.47222222 0.47222222 0.475      0.475\n",
      " 0.47916667 0.47916667 0.48333333 0.48333333 0.48472222 0.48472222\n",
      " 0.48611111 0.48611111 0.49166667 0.49166667 0.50138889 0.50138889\n",
      " 0.51805556 0.51805556 0.52222222 0.52222222 0.52916667 0.52916667\n",
      " 0.53611111 0.53611111 0.54027778 0.54027778 0.54861111 0.54861111\n",
      " 0.55       0.55       0.55138889 0.55138889 0.55833333 0.55833333\n",
      " 0.55972222 0.55972222 0.57083333 0.57083333 0.57361111 0.57361111\n",
      " 0.575      0.575      0.57777778 0.57777778 0.58055556 0.58055556\n",
      " 0.58194444 0.58194444 0.60138889 0.60138889 0.61111111 0.61111111\n",
      " 0.61666667 0.61666667 0.62083333 0.62083333 0.62361111 0.62361111\n",
      " 0.63194444 0.63194444 0.63611111 0.63611111 0.64722222 0.64722222\n",
      " 0.65694444 0.65694444 0.66388889 0.66388889 0.66666667 0.66666667\n",
      " 0.66805556 0.66805556 0.67916667 0.67916667 0.68055556 0.68055556\n",
      " 0.68194444 0.68194444 0.68472222 0.68472222 0.68888889 0.68888889\n",
      " 0.69444444 0.69444444 0.69722222 0.69722222 0.70138889 0.70138889\n",
      " 0.70277778 0.70277778 0.70694444 0.70694444 0.71111111 0.71111111\n",
      " 0.71805556 0.71805556 0.72083333 0.72083333 0.72361111 0.72361111\n",
      " 0.72777778 0.72777778 0.72916667 0.72916667 0.73055556 0.73055556\n",
      " 0.73472222 0.73472222 0.73888889 0.73888889 0.74722222 0.74722222\n",
      " 0.75138889 0.75138889 0.75416667 0.75416667 0.75694444 0.75694444\n",
      " 0.75833333 0.75833333 0.76111111 0.76111111 0.76388889 0.76388889\n",
      " 0.77083333 0.77083333 0.77777778 0.77777778 0.78472222 0.78472222\n",
      " 0.78611111 0.78611111 0.79166667 0.79166667 0.79305556 0.79305556\n",
      " 0.79444444 0.79444444 0.79583333 0.79583333 0.79722222 0.79722222\n",
      " 0.79861111 0.79861111 0.8        0.8        0.80138889 0.80138889\n",
      " 0.80416667 0.80416667 0.80972222 0.80972222 0.81111111 0.81111111\n",
      " 0.8125     0.8125     0.81666667 0.81666667 0.81805556 0.81805556\n",
      " 0.81944444 0.81944444 0.82083333 0.82083333 0.82222222 0.82222222\n",
      " 0.825      0.825      0.82638889 0.82638889 0.82777778 0.82777778\n",
      " 0.83055556 0.83055556 0.83472222 0.83472222 0.83888889 0.83888889\n",
      " 0.84027778 0.84027778 0.84166667 0.84166667 0.84583333 0.84583333\n",
      " 0.84861111 0.84861111 0.85       0.85       0.85138889 0.85138889\n",
      " 0.85277778 0.85277778 0.85416667 0.85416667 0.85694444 0.85694444\n",
      " 0.85833333 0.85833333 0.85972222 0.85972222 0.86111111 0.86111111\n",
      " 0.8625     0.8625     0.86388889 0.86388889 0.86527778 0.86527778\n",
      " 0.86666667 0.86666667 0.86805556 0.86805556 0.86944444 0.86944444\n",
      " 0.87083333 0.87083333 0.87222222 0.87222222 0.87361111 0.87361111\n",
      " 0.875      0.875      0.87638889 0.87638889 0.87777778 0.87777778\n",
      " 0.87916667 0.87916667 0.88055556 0.88055556 0.88194444 0.88194444\n",
      " 0.88333333 0.88333333 0.88472222 0.88472222 0.88611111 0.88611111\n",
      " 0.88888889 0.88888889 0.89027778 0.89027778 0.89166667 0.89166667\n",
      " 0.89444444 0.89444444 0.89583333 0.89583333 0.89722222 0.89722222\n",
      " 0.89861111 0.89861111 0.9        0.9        0.90138889 0.90138889\n",
      " 0.90277778 0.90277778 0.90416667 0.90416667 0.90555556 0.90555556\n",
      " 0.90694444 0.90694444 0.90833333 0.90833333 0.90972222 0.90972222\n",
      " 0.91111111 0.91111111 0.9125     0.9125     0.91388889 0.91388889\n",
      " 0.91527778 0.91527778 0.91666667 0.91666667 0.91805556 0.91805556\n",
      " 0.91944444 0.91944444 0.92083333 0.92083333 0.92222222 0.92222222\n",
      " 0.92361111 0.92361111 0.925      0.925      0.92638889 0.92638889\n",
      " 0.92777778 0.92777778 0.92916667 0.92916667 0.93055556 0.93055556\n",
      " 0.93194444 0.93194444 0.93333333 0.93333333 0.93472222 0.93472222\n",
      " 0.93611111 0.93611111 0.9375     0.9375     0.93888889 0.93888889\n",
      " 0.94027778 0.94027778 0.94166667 0.94166667 0.94305556 0.94305556\n",
      " 0.94444444 0.94444444 0.94583333 0.94583333 0.94722222 0.94722222\n",
      " 0.94861111 0.94861111 0.95       0.95       0.95138889 0.95138889\n",
      " 0.95277778 0.95277778 0.95416667 0.95416667 0.95555556 0.95555556\n",
      " 0.95694444 0.95694444 0.95833333 0.95833333 0.95972222 0.95972222\n",
      " 0.96111111 0.96111111 0.9625     0.9625     0.96388889 0.96388889\n",
      " 0.96527778 0.96527778 0.96666667 0.96666667 0.96805556 0.96805556\n",
      " 0.96944444 0.96944444 0.97083333 0.97083333 0.97222222 0.97222222\n",
      " 0.97361111 0.97361111 0.975      0.975      0.97638889 0.97638889\n",
      " 0.97777778 0.97777778 0.97916667 0.97916667 0.98055556 0.98055556\n",
      " 0.98194444 0.98194444 0.98333333 0.98333333 0.98472222 0.98472222\n",
      " 0.98611111 0.98611111 0.9875     0.9875     0.98888889 0.98888889\n",
      " 0.99027778 0.99027778 0.99166667 0.99166667 0.99305556 0.99305556\n",
      " 0.99444444 0.99444444 0.99583333 0.99583333 0.99722222 0.99722222\n",
      " 0.99861111 0.99861111 1.         1.        ]\n"
     ]
    }
   ],
   "source": [
    "fpr_lr, tpr_lr, thresholds = metrics.roc_curve(y_test_gray, y_predict_prob_lr[:,1], pos_label=1)\n",
    "\n",
    "print(fpr_lr)\n",
    "print(tpr_lr)"
   ]
  },
  {
   "cell_type": "markdown",
   "metadata": {},
   "source": [
    "### AUC:"
   ]
  },
  {
   "cell_type": "code",
   "execution_count": 65,
   "metadata": {},
   "outputs": [
    {
     "name": "stdout",
     "output_type": "stream",
     "text": [
      "0.9714141944211213\n"
     ]
    }
   ],
   "source": [
    "# AUC:\n",
    "AUC_lr = metrics.auc(fpr_lr, tpr_lr)\n",
    "print(AUC_lr)"
   ]
  },
  {
   "cell_type": "markdown",
   "metadata": {},
   "source": [
    "### ROC Curve:"
   ]
  },
  {
   "cell_type": "code",
   "execution_count": 66,
   "metadata": {},
   "outputs": [
    {
     "data": {
      "image/png": "[encoded data removed]",
      "text/plain": [
       "<Figure size 432x288 with 1 Axes>"
      ]
     },
     "metadata": {
      "needs_background": "light"
     },
     "output_type": "display_data"
    }
   ],
   "source": [
    "plt.figure()\n",
    "\n",
    "# Roc Curve:\n",
    "plt.plot(fpr_lr, tpr_lr, color='red', lw=2, label='LR - ROC Curve (area = %0.2f)' % AUC_lr)\n",
    "\n",
    "# Random Guess line:\n",
    "plt.plot([0, 1], [0, 1], color='blue', lw=1, linestyle='--')\n",
    "\n",
    "# Defining The Range of X-Axis and Y-Axis:\n",
    "plt.xlim([-0.005, 1.005])\n",
    "plt.ylim([0.0, 1.01])\n",
    "\n",
    "# Labels, Title, Legend:\n",
    "plt.xlabel('False Positive Rate')\n",
    "plt.ylabel('True Positive Rate')\n",
    "plt.title('Receiver operating characteristic')\n",
    "plt.legend(loc=\"lower right\")\n",
    "\n",
    "plt.show()"
   ]
  },
  {
   "cell_type": "markdown",
   "metadata": {},
   "source": [
    "# 2 - Decision Tree Classifier\n"
   ]
  },
  {
   "cell_type": "code",
   "execution_count": 26,
   "metadata": {},
   "outputs": [
    {
     "name": "stdout",
     "output_type": "stream",
     "text": [
      "[12  3  1 ...  5  1 38]\n",
      "CPU times: user 42.8 s, sys: 208 ms, total: 43 s\n",
      "Wall time: 43.2 s\n"
     ]
    }
   ],
   "source": [
    "%%time\n",
    "# import Decision Tree Classifier\n",
    "from sklearn.tree import DecisionTreeClassifier\n",
    "\n",
    "my_decisiontree = DecisionTreeClassifier(random_state=2)\n",
    "my_decisiontree.fit(X_train_gray, y_train_gray)\n",
    "\n",
    "# Prediction on the testing set:\n",
    "y_predict_dt = my_decisiontree.predict(X_test_gray)\n",
    "\n",
    "print(y_predict_dt)"
   ]
  },
  {
   "cell_type": "code",
   "execution_count": 61,
   "metadata": {},
   "outputs": [
    {
     "name": "stdout",
     "output_type": "stream",
     "text": [
      "Decision Tree Classifier accuracy:  0.5716547901821061\n"
     ]
    }
   ],
   "source": [
    "# display accuracy\n",
    "score_dt = accuracy_score(y_test_gray, y_predict_dt)\n",
    "\n",
    "print(\"Decision Tree Classifier accuracy: \",score_dt)"
   ]
  },
  {
   "cell_type": "markdown",
   "metadata": {},
   "source": [
    "### Estimating the Probability (likelihood) of happening an Event: \n"
   ]
  },
  {
   "cell_type": "code",
   "execution_count": 28,
   "metadata": {},
   "outputs": [
    {
     "name": "stdout",
     "output_type": "stream",
     "text": [
      "[12  3  1 ...  5  1 38]\n",
      "[0. 0. 1. ... 0. 1. 0.]\n"
     ]
    }
   ],
   "source": [
    "# Estimating the probability (likelihood) of Each Label: \n",
    "y_predict_prob_dt = my_decisiontree.predict_proba(X_test_gray)\n",
    "\n",
    "print(y_predict_dt)\n",
    "print(y_predict_prob_dt[:,1])"
   ]
  },
  {
   "cell_type": "markdown",
   "metadata": {},
   "source": [
    "### True Positive Rate (TPR) and False Positive Rate (FPR):"
   ]
  },
  {
   "cell_type": "code",
   "execution_count": 29,
   "metadata": {},
   "outputs": [
    {
     "name": "stdout",
     "output_type": "stream",
     "text": [
      "[0.         0.02258606 1.        ]\n",
      "\n",
      "\n",
      "[0.         0.59166667 1.        ]\n"
     ]
    }
   ],
   "source": [
    "fpr_dt, tpr_dt, thresholds_dt = metrics.roc_curve(y_test_gray, y_predict_prob_dt[:,1], pos_label=1)\n",
    "\n",
    "print(fpr_dt)\n",
    "print(\"\\n\")\n",
    "print(tpr_dt)"
   ]
  },
  {
   "cell_type": "markdown",
   "metadata": {},
   "source": [
    "### AUC:"
   ]
  },
  {
   "cell_type": "code",
   "execution_count": 30,
   "metadata": {},
   "outputs": [
    {
     "name": "stdout",
     "output_type": "stream",
     "text": [
      "0.7845403022670026\n"
     ]
    }
   ],
   "source": [
    "# AUC:\n",
    "AUC_dt = metrics.auc(fpr_dt, tpr_dt)\n",
    "print(AUC_dt)"
   ]
  },
  {
   "cell_type": "markdown",
   "metadata": {},
   "source": [
    "### ROC Curve:"
   ]
  },
  {
   "cell_type": "code",
   "execution_count": 31,
   "metadata": {},
   "outputs": [
    {
     "data": {
      "image/png": "[encoded data removed]",
      "text/plain": [
       "<Figure size 432x288 with 1 Axes>"
      ]
     },
     "metadata": {
      "needs_background": "light"
     },
     "output_type": "display_data"
    }
   ],
   "source": [
    "plt.figure()\n",
    "\n",
    "# Roc Curve:\n",
    "plt.plot(fpr_dt, tpr_dt, color='red', lw=2, label='DT - ROC Curve (area = %0.2f)' % AUC_dt)\n",
    "\n",
    "# Random Guess line:\n",
    "plt.plot([0, 1], [0, 1], color='blue', lw=1, linestyle='--')\n",
    "\n",
    "# Defining The Range of X-Axis and Y-Axis:\n",
    "plt.xlim([-0.005, 1.005])\n",
    "plt.ylim([0.0, 1.01])\n",
    "\n",
    "# Labels, Title, Legend:\n",
    "plt.xlabel('False Positive Rate')\n",
    "plt.ylabel('True Positive Rate')\n",
    "plt.title('Receiver operating characteristic')\n",
    "plt.legend(loc=\"lower right\")\n",
    "\n",
    "plt.show()"
   ]
  },
  {
   "cell_type": "markdown",
   "metadata": {},
   "source": [
    "# 3 - Random Forest Classifier"
   ]
  },
  {
   "cell_type": "code",
   "execution_count": 32,
   "metadata": {},
   "outputs": [
    {
     "name": "stdout",
     "output_type": "stream",
     "text": [
      "[12  1  1 ...  1  2 38]\n",
      "CPU times: user 26 s, sys: 189 ms, total: 26.2 s\n",
      "Wall time: 26.2 s\n"
     ]
    }
   ],
   "source": [
    "%%time\n",
    "# import Random Forest Classifier\n",
    "from sklearn.ensemble import RandomForestClassifier\n",
    "\n",
    "my_RandomForest = RandomForestClassifier(n_estimators = 29, bootstrap = True, random_state=2)\n",
    "my_RandomForest.fit(X_train_gray, y_train_gray)\n",
    "\n",
    "# Prediction on the testing set:\n",
    "y_predict_rf = my_RandomForest.predict(X_test_gray)\n",
    "\n",
    "print(y_predict_rf)"
   ]
  },
  {
   "cell_type": "code",
   "execution_count": 62,
   "metadata": {},
   "outputs": [
    {
     "name": "stdout",
     "output_type": "stream",
     "text": [
      "Random Forest Classifier accuracy:  0.7304829770387965\n"
     ]
    }
   ],
   "source": [
    "# display accuracy\n",
    "score_rf = accuracy_score(y_test_gray, y_predict_rf)\n",
    "\n",
    "print(\"Random Forest Classifier accuracy: \",score_rf)"
   ]
  },
  {
   "cell_type": "markdown",
   "metadata": {},
   "source": [
    "### Estimating the Probability (likelihood) of happening an Event: \n"
   ]
  },
  {
   "cell_type": "code",
   "execution_count": 34,
   "metadata": {},
   "outputs": [
    {
     "name": "stdout",
     "output_type": "stream",
     "text": [
      "[12  1  1 ...  1  2 38]\n",
      "[0.06896552 0.13793103 0.44827586 ... 0.34482759 0.27586207 0.06896552]\n"
     ]
    }
   ],
   "source": [
    "# Estimating the probability (likelihood) of Each Label: \n",
    "y_predict_prob_rf = my_RandomForest.predict_proba(X_test_gray)\n",
    "\n",
    "print(y_predict_rf)\n",
    "print(y_predict_prob_rf[:,1])"
   ]
  },
  {
   "cell_type": "markdown",
   "metadata": {},
   "source": [
    "### True Positive Rate (TPR) and False Positive Rate (FPR):"
   ]
  },
  {
   "cell_type": "code",
   "execution_count": 35,
   "metadata": {},
   "outputs": [
    {
     "name": "stdout",
     "output_type": "stream",
     "text": [
      "[0.00000000e+00 0.00000000e+00 0.00000000e+00 0.00000000e+00\n",
      " 0.00000000e+00 0.00000000e+00 0.00000000e+00 0.00000000e+00\n",
      " 0.00000000e+00 0.00000000e+00 0.00000000e+00 0.00000000e+00\n",
      " 0.00000000e+00 0.00000000e+00 0.00000000e+00 8.39630563e-05\n",
      " 4.19815281e-04 5.03778338e-04 1.09151973e-03 2.60285474e-03\n",
      " 5.45759866e-03 9.99160369e-03 1.79680940e-02 3.04785894e-02\n",
      " 4.82787573e-02 8.16120907e-02 1.42653233e-01 2.54072208e-01\n",
      " 4.79680940e-01 1.00000000e+00]\n",
      "\n",
      "\n",
      "[0.         0.00416667 0.01805556 0.02638889 0.04722222 0.06111111\n",
      " 0.09027778 0.1125     0.14444444 0.17777778 0.21527778 0.25\n",
      " 0.30555556 0.35833333 0.40833333 0.46527778 0.51111111 0.575\n",
      " 0.61666667 0.67777778 0.71388889 0.75555556 0.79444444 0.84583333\n",
      " 0.88472222 0.92638889 0.95138889 0.97222222 0.99027778 1.        ]\n"
     ]
    }
   ],
   "source": [
    "\n",
    "fpr_rf, tpr_rf, thresholds_rf = metrics.roc_curve(y_test_gray, y_predict_prob_rf[:,1], pos_label=1)\n",
    "\n",
    "print(fpr_rf)\n",
    "print(\"\\n\")\n",
    "print(tpr_rf)"
   ]
  },
  {
   "cell_type": "markdown",
   "metadata": {},
   "source": [
    "### AUC:"
   ]
  },
  {
   "cell_type": "code",
   "execution_count": 36,
   "metadata": {},
   "outputs": [
    {
     "name": "stdout",
     "output_type": "stream",
     "text": [
      "0.9725641967534284\n"
     ]
    }
   ],
   "source": [
    "# AUC:\n",
    "AUC_rf = metrics.auc(fpr_rf, tpr_rf)\n",
    "print(AUC_rf)"
   ]
  },
  {
   "cell_type": "markdown",
   "metadata": {},
   "source": [
    "### ROC Curve:"
   ]
  },
  {
   "cell_type": "code",
   "execution_count": 37,
   "metadata": {},
   "outputs": [
    {
     "data": {
      "image/png": "[encoded data removed]",
      "text/plain": [
       "<Figure size 432x288 with 1 Axes>"
      ]
     },
     "metadata": {
      "needs_background": "light"
     },
     "output_type": "display_data"
    }
   ],
   "source": [
    "plt.figure()\n",
    "\n",
    "# Roc Curve:\n",
    "plt.plot(fpr_rf, tpr_rf, color='red', lw=2, label='RF - ROC Curve (area = %0.2f)' % AUC_rf)\n",
    "\n",
    "# Random Guess line:\n",
    "plt.plot([0, 1], [0, 1], color='blue', lw=1, linestyle='--')\n",
    "\n",
    "# Defining The Range of X-Axis and Y-Axis:\n",
    "plt.xlim([-0.005, 1.005])\n",
    "plt.ylim([0.0, 1.01])\n",
    "\n",
    "# Labels, Title, Legend:\n",
    "plt.xlabel('False Positive Rate')\n",
    "plt.ylabel('True Positive Rate')\n",
    "plt.title('Receiver operating characteristic')\n",
    "plt.legend(loc=\"lower right\")\n",
    "\n",
    "plt.show()"
   ]
  },
  {
   "cell_type": "markdown",
   "metadata": {},
   "source": [
    "# 4 - Adaboost Classifier\n"
   ]
  },
  {
   "cell_type": "code",
   "execution_count": 38,
   "metadata": {},
   "outputs": [
    {
     "name": "stdout",
     "output_type": "stream",
     "text": [
      "[12 14  2 ... 14 38 13]\n",
      "CPU times: user 1min 9s, sys: 2.61 s, total: 1min 12s\n",
      "Wall time: 1min 12s\n"
     ]
    }
   ],
   "source": [
    "%%time\n",
    "# import Ada Boost Classifier\n",
    "from sklearn.ensemble import AdaBoostClassifier\n",
    "\n",
    "my_AdaBoost = AdaBoostClassifier(n_estimators = 29,random_state=2)\n",
    "my_AdaBoost.fit(X_train_gray,y_train_gray)\n",
    "\n",
    "# Prediction on the testing set:\n",
    "y_predict_ad = my_AdaBoost.predict(X_test_gray)\n",
    "\n",
    "print(y_predict_ad)"
   ]
  },
  {
   "cell_type": "code",
   "execution_count": 63,
   "metadata": {},
   "outputs": [
    {
     "name": "stdout",
     "output_type": "stream",
     "text": [
      "AdaBoost Classifier accuracy:  0.21464766429136975\n"
     ]
    }
   ],
   "source": [
    "# display accuracy\n",
    "score_ad = accuracy_score(y_test_gray, y_predict_ad)\n",
    "\n",
    "print(\"AdaBoost Classifier accuracy: \",score_ad)"
   ]
  },
  {
   "cell_type": "markdown",
   "metadata": {},
   "source": [
    "### Estimating the Probability (likelihood) of happening an Event: \n"
   ]
  },
  {
   "cell_type": "code",
   "execution_count": 40,
   "metadata": {},
   "outputs": [
    {
     "name": "stdout",
     "output_type": "stream",
     "text": [
      "[12 14  2 ... 14 38 13]\n",
      "[0.02609871 0.03845122 0.02706622 ... 0.03140738 0.02625194 0.04771039]\n"
     ]
    }
   ],
   "source": [
    "# Estimating the probability (likelihood) of Each Label: \n",
    "y_predict_prob_ad = my_AdaBoost.predict_proba(X_test_gray)\n",
    "\n",
    "print(y_predict_ad)\n",
    "print(y_predict_prob_ad[:,1])"
   ]
  },
  {
   "cell_type": "markdown",
   "metadata": {},
   "source": [
    "### True Positive Rate (TPR) and False Positive Rate (FPR):"
   ]
  },
  {
   "cell_type": "code",
   "execution_count": 41,
   "metadata": {},
   "outputs": [
    {
     "name": "stdout",
     "output_type": "stream",
     "text": [
      "[0.00000000e+00 8.39630563e-05 5.03778338e-04 ... 9.99580185e-01\n",
      " 9.99916037e-01 1.00000000e+00]\n",
      "\n",
      "\n",
      "[0. 0. 0. ... 1. 1. 1.]\n"
     ]
    }
   ],
   "source": [
    "fpr_ad, tpr_ad, thresholds_ad = metrics.roc_curve(y_test_gray, y_predict_prob_ad[:,1], pos_label=1)\n",
    "\n",
    "print(fpr_ad)\n",
    "print(\"\\n\")\n",
    "print(tpr_ad)"
   ]
  },
  {
   "cell_type": "markdown",
   "metadata": {},
   "source": [
    "### AUC:"
   ]
  },
  {
   "cell_type": "code",
   "execution_count": 42,
   "metadata": {},
   "outputs": [
    {
     "name": "stdout",
     "output_type": "stream",
     "text": [
      "0.6986715761731505\n"
     ]
    }
   ],
   "source": [
    "# AUC:\n",
    "AUC_ad = metrics.auc(fpr_ad, tpr_ad)\n",
    "print(AUC_ad)"
   ]
  },
  {
   "cell_type": "markdown",
   "metadata": {},
   "source": [
    "### ROC Curve:"
   ]
  },
  {
   "cell_type": "code",
   "execution_count": 43,
   "metadata": {},
   "outputs": [
    {
     "data": {
      "image/png": "[encoded data removed]",
      "text/plain": [
       "<Figure size 432x288 with 1 Axes>"
      ]
     },
     "metadata": {
      "needs_background": "light"
     },
     "output_type": "display_data"
    }
   ],
   "source": [
    "plt.figure()\n",
    "\n",
    "# Roc Curve:\n",
    "plt.plot(fpr_ad, tpr_ad, color='red', lw=2, label='AdB - ROC Curve (area = %0.2f)' % AUC_ad)\n",
    "\n",
    "# Random Guess line:\n",
    "plt.plot([0, 1], [0, 1], color='blue', lw=1, linestyle='--')\n",
    "\n",
    "# Defining The Range of X-Axis and Y-Axis:\n",
    "plt.xlim([-0.005, 1.005])\n",
    "plt.ylim([0.0, 1.01])\n",
    "\n",
    "# Labels, Title, Legend:\n",
    "plt.xlabel('False Positive Rate')\n",
    "plt.ylabel('True Positive Rate')\n",
    "plt.title('Receiver operating characteristic')\n",
    "plt.legend(loc=\"lower right\")\n",
    "\n",
    "plt.show()"
   ]
  },
  {
   "cell_type": "markdown",
   "metadata": {},
   "source": [
    "# 5 - XGBoost Classifier\n"
   ]
  },
  {
   "cell_type": "code",
   "execution_count": 44,
   "metadata": {},
   "outputs": [
    {
     "name": "stderr",
     "output_type": "stream",
     "text": [
      "/opt/anaconda3/lib/python3.8/site-packages/xgboost/sklearn.py:888: UserWarning: The use of label encoder in XGBClassifier is deprecated and will be removed in a future release. To remove this warning, do the following: 1) Pass option use_label_encoder=False when constructing XGBClassifier object; and 2) Encode your labels (y) as integers starting with 0, i.e. 0, 1, 2, ..., [num_class - 1].\n",
      "  warnings.warn(label_encoder_deprecation_msg, UserWarning)\n"
     ]
    },
    {
     "name": "stdout",
     "output_type": "stream",
     "text": [
      "[12:14:16] WARNING: /Users/travis/build/dmlc/xgboost/src/learner.cc:1061: Starting in XGBoost 1.3.0, the default evaluation metric used with the objective 'multi:softprob' was changed from 'merror' to 'mlogloss'. Explicitly set eval_metric if you'd like to restore the old behavior.\n",
      "[12 18  1 ...  1  1 18]\n",
      "CPU times: user 1h 25min 5s, sys: 19.1 s, total: 1h 25min 24s\n",
      "Wall time: 7min 45s\n"
     ]
    }
   ],
   "source": [
    "%%time\n",
    "# import XGBoost Classifier\n",
    "from xgboost import XGBClassifier\n",
    "\n",
    "my_XGBoost = XGBClassifier(n_estimators = 29,random_state=2)\n",
    "my_XGBoost.fit(X_train_gray,y_train_gray)\n",
    "\n",
    "# Prediction on the testing set:\n",
    "y_predict_xg = my_XGBoost.predict(X_test_gray)\n",
    "\n",
    "print(y_predict_xg)"
   ]
  },
  {
   "cell_type": "code",
   "execution_count": 45,
   "metadata": {},
   "outputs": [
    {
     "name": "stdout",
     "output_type": "stream",
     "text": [
      "AdaBoost Classifier : 0.7418844022169437\n"
     ]
    }
   ],
   "source": [
    "# display accuracy\n",
    "score_xg = accuracy_score(y_test_gray, y_predict_xg)\n",
    "\n",
    "print(\"AdaBoost Classifier accuracy: \",score_xg)"
   ]
  },
  {
   "cell_type": "markdown",
   "metadata": {},
   "source": [
    "### Estimating the Probability (likelihood) of happening an Event: \n"
   ]
  },
  {
   "cell_type": "code",
   "execution_count": 46,
   "metadata": {},
   "outputs": [
    {
     "name": "stdout",
     "output_type": "stream",
     "text": [
      "[12 18  1 ...  1  1 18]\n",
      "[0.02029403 0.2915     0.9990926  ... 0.97540945 0.9689424  0.0384218 ]\n"
     ]
    }
   ],
   "source": [
    "# Estimating the probability (likelihood) of Each Label: \n",
    "y_predict_prob_xg = my_XGBoost.predict_proba(X_test_gray)\n",
    "\n",
    "print(y_predict_xg)\n",
    "print(y_predict_prob_xg[:,1])"
   ]
  },
  {
   "cell_type": "markdown",
   "metadata": {},
   "source": [
    "### True Positive Rate (TPR) and False Positive Rate (FPR):"
   ]
  },
  {
   "cell_type": "code",
   "execution_count": 47,
   "metadata": {},
   "outputs": [
    {
     "name": "stdout",
     "output_type": "stream",
     "text": [
      "[0.00000000e+00 0.00000000e+00 0.00000000e+00 0.00000000e+00\n",
      " 0.00000000e+00 0.00000000e+00 0.00000000e+00 8.39630563e-05\n",
      " 8.39630563e-05 8.39630563e-05 8.39630563e-05 1.67926113e-04\n",
      " 1.67926113e-04 2.51889169e-04 2.51889169e-04 3.35852225e-04\n",
      " 3.35852225e-04 4.19815281e-04 4.19815281e-04 5.03778338e-04\n",
      " 5.03778338e-04 5.87741394e-04 5.87741394e-04 7.55667506e-04\n",
      " 7.55667506e-04 8.39630563e-04 8.39630563e-04 9.23593619e-04\n",
      " 9.23593619e-04 1.00755668e-03 1.00755668e-03 1.17548279e-03\n",
      " 1.17548279e-03 1.25944584e-03 1.25944584e-03 1.34340890e-03\n",
      " 1.34340890e-03 1.51133501e-03 1.51133501e-03 1.59529807e-03\n",
      " 1.59529807e-03 1.84718724e-03 1.84718724e-03 1.93115029e-03\n",
      " 1.93115029e-03 2.01511335e-03 2.01511335e-03 2.09907641e-03\n",
      " 2.09907641e-03 2.18303946e-03 2.18303946e-03 2.26700252e-03\n",
      " 2.26700252e-03 2.35096558e-03 2.35096558e-03 2.43492863e-03\n",
      " 2.43492863e-03 2.51889169e-03 2.51889169e-03 2.60285474e-03\n",
      " 2.60285474e-03 2.77078086e-03 2.77078086e-03 2.85474391e-03\n",
      " 2.85474391e-03 2.93870697e-03 2.93870697e-03 3.02267003e-03\n",
      " 3.02267003e-03 3.10663308e-03 3.10663308e-03 3.35852225e-03\n",
      " 3.35852225e-03 3.52644836e-03 3.52644836e-03 3.61041142e-03\n",
      " 3.61041142e-03 3.69437448e-03 3.69437448e-03 3.77833753e-03\n",
      " 3.77833753e-03 3.94626364e-03 3.94626364e-03 4.19815281e-03\n",
      " 4.19815281e-03 4.45004198e-03 4.45004198e-03 4.53400504e-03\n",
      " 4.53400504e-03 4.61796809e-03 4.61796809e-03 4.70193115e-03\n",
      " 4.70193115e-03 4.78589421e-03 4.78589421e-03 4.86985726e-03\n",
      " 4.86985726e-03 4.95382032e-03 4.95382032e-03 5.03778338e-03\n",
      " 5.03778338e-03 5.12174643e-03 5.12174643e-03 5.20570949e-03\n",
      " 5.20570949e-03 5.28967254e-03 5.28967254e-03 5.37363560e-03\n",
      " 5.37363560e-03 5.45759866e-03 5.45759866e-03 5.70948783e-03\n",
      " 5.70948783e-03 5.79345088e-03 5.79345088e-03 5.87741394e-03\n",
      " 5.87741394e-03 6.21326616e-03 6.21326616e-03 6.29722922e-03\n",
      " 6.29722922e-03 6.46515533e-03 6.46515533e-03 6.63308144e-03\n",
      " 6.63308144e-03 6.71704450e-03 6.71704450e-03 7.05289673e-03\n",
      " 7.05289673e-03 7.13685978e-03 7.13685978e-03 7.22082284e-03\n",
      " 7.22082284e-03 7.30478589e-03 7.30478589e-03 7.38874895e-03\n",
      " 7.38874895e-03 7.64063812e-03 7.64063812e-03 7.72460118e-03\n",
      " 7.72460118e-03 7.89252729e-03 7.89252729e-03 7.97649034e-03\n",
      " 7.97649034e-03 8.14441646e-03 8.14441646e-03 8.39630563e-03\n",
      " 8.39630563e-03 8.48026868e-03 8.48026868e-03 8.56423174e-03\n",
      " 8.56423174e-03 8.64819479e-03 8.64819479e-03 8.81612091e-03\n",
      " 8.81612091e-03 8.90008396e-03 8.90008396e-03 9.06801008e-03\n",
      " 9.06801008e-03 9.15197313e-03 9.15197313e-03 9.40386230e-03\n",
      " 9.40386230e-03 9.73971453e-03 9.73971453e-03 9.90764064e-03\n",
      " 9.90764064e-03 1.03274559e-02 1.03274559e-02 1.08312343e-02\n",
      " 1.08312343e-02 1.09991604e-02 1.09991604e-02 1.10831234e-02\n",
      " 1.10831234e-02 1.12510495e-02 1.12510495e-02 1.14189757e-02\n",
      " 1.14189757e-02 1.15029387e-02 1.15029387e-02 1.15869018e-02\n",
      " 1.15869018e-02 1.16708648e-02 1.16708648e-02 1.20067170e-02\n",
      " 1.20067170e-02 1.23425693e-02 1.23425693e-02 1.25104954e-02\n",
      " 1.25104954e-02 1.25944584e-02 1.25944584e-02 1.29303107e-02\n",
      " 1.29303107e-02 1.30982368e-02 1.30982368e-02 1.34340890e-02\n",
      " 1.34340890e-02 1.36859782e-02 1.36859782e-02 1.38539043e-02\n",
      " 1.38539043e-02 1.39378673e-02 1.39378673e-02 1.40218304e-02\n",
      " 1.40218304e-02 1.43576826e-02 1.43576826e-02 1.45256087e-02\n",
      " 1.45256087e-02 1.49454240e-02 1.49454240e-02 1.51973132e-02\n",
      " 1.51973132e-02 1.52812762e-02 1.52812762e-02 1.53652393e-02\n",
      " 1.53652393e-02 1.55331654e-02 1.55331654e-02 1.57010915e-02\n",
      " 1.57010915e-02 1.58690176e-02 1.58690176e-02 1.59529807e-02\n",
      " 1.59529807e-02 1.61209068e-02 1.61209068e-02 1.62048699e-02\n",
      " 1.62048699e-02 1.63727960e-02 1.63727960e-02 1.66246851e-02\n",
      " 1.66246851e-02 1.67926113e-02 1.67926113e-02 1.71284635e-02\n",
      " 1.71284635e-02 1.72963896e-02 1.72963896e-02 1.75482788e-02\n",
      " 1.75482788e-02 1.79680940e-02 1.79680940e-02 1.80520571e-02\n",
      " 1.80520571e-02 1.83039463e-02 1.83039463e-02 1.86397985e-02\n",
      " 1.86397985e-02 1.93115029e-02 1.93115029e-02 1.93954660e-02\n",
      " 1.93954660e-02 1.98152813e-02 1.98152813e-02 1.98992443e-02\n",
      " 1.98992443e-02 2.01511335e-02 2.01511335e-02 2.08228380e-02\n",
      " 2.08228380e-02 2.10747271e-02 2.10747271e-02 2.14945424e-02\n",
      " 2.14945424e-02 2.17464316e-02 2.17464316e-02 2.22502099e-02\n",
      " 2.22502099e-02 2.31738035e-02 2.31738035e-02 2.32577666e-02\n",
      " 2.32577666e-02 2.39294710e-02 2.39294710e-02 2.44332494e-02\n",
      " 2.44332494e-02 2.46011755e-02 2.46011755e-02 2.49370277e-02\n",
      " 2.49370277e-02 2.69521411e-02 2.69521411e-02 2.73719563e-02\n",
      " 2.73719563e-02 2.82955500e-02 2.82955500e-02 2.93031066e-02\n",
      " 2.93031066e-02 3.01427372e-02 3.01427372e-02 3.10663308e-02\n",
      " 3.10663308e-02 3.15701092e-02 3.15701092e-02 3.17380353e-02\n",
      " 3.17380353e-02 3.32493703e-02 3.32493703e-02 3.71116709e-02\n",
      " 3.71116709e-02 3.73635600e-02 3.73635600e-02 3.76994123e-02\n",
      " 3.76994123e-02 3.82871537e-02 3.82871537e-02 3.83711167e-02\n",
      " 3.83711167e-02 3.99664148e-02 3.99664148e-02 4.08060453e-02\n",
      " 4.08060453e-02 4.13937867e-02 4.13937867e-02 4.25692695e-02\n",
      " 4.25692695e-02 4.55079765e-02 4.55079765e-02 4.77749790e-02\n",
      " 4.77749790e-02 4.83627204e-02 4.83627204e-02 5.76826196e-02\n",
      " 5.76826196e-02 5.81024349e-02 5.81024349e-02 6.20486986e-02\n",
      " 6.20486986e-02 6.46515533e-02 6.46515533e-02 6.54911839e-02\n",
      " 6.54911839e-02 6.59109992e-02 6.59109992e-02 6.70025189e-02\n",
      " 6.70025189e-02 6.87657431e-02 6.87657431e-02 7.01931150e-02\n",
      " 7.01931150e-02 7.69941226e-02 7.69941226e-02 7.92611251e-02\n",
      " 7.92611251e-02 8.19479429e-02 8.19479429e-02 8.26196474e-02\n",
      " 8.26196474e-02 8.29554996e-02 8.29554996e-02 8.48866499e-02\n",
      " 8.48866499e-02 8.58102435e-02 8.58102435e-02 8.67338371e-02\n",
      " 8.67338371e-02 9.00923594e-02 9.00923594e-02 9.21914358e-02\n",
      " 9.21914358e-02 9.72292191e-02 9.72292191e-02 1.02350966e-01\n",
      " 1.02350966e-01 1.10831234e-01 1.10831234e-01 1.17212427e-01\n",
      " 1.17212427e-01 1.18807725e-01 1.18807725e-01 1.19395466e-01\n",
      " 1.19395466e-01 1.19899244e-01 1.19899244e-01 1.21242653e-01\n",
      " 1.21242653e-01 1.22250210e-01 1.22250210e-01 1.24601175e-01\n",
      " 1.24601175e-01 1.26028547e-01 1.26028547e-01 1.30562552e-01\n",
      " 1.30562552e-01 1.32157851e-01 1.32157851e-01 1.32913518e-01\n",
      " 1.32913518e-01 1.33669186e-01 1.33669186e-01 1.44416457e-01\n",
      " 1.44416457e-01 1.45675903e-01 1.45675903e-01 1.46851385e-01\n",
      " 1.46851385e-01 1.48026868e-01 1.48026868e-01 1.56591100e-01\n",
      " 1.56591100e-01 1.96977330e-01 1.96977330e-01 2.14693535e-01\n",
      " 2.14693535e-01 2.18303946e-01 2.18303946e-01 2.20990764e-01\n",
      " 2.20990764e-01 2.32661629e-01 2.32661629e-01 2.58942065e-01\n",
      " 2.58942065e-01 2.61712846e-01 2.61712846e-01 2.79513014e-01\n",
      " 2.79513014e-01 3.21410579e-01 3.21410579e-01 3.22921914e-01\n",
      " 3.22921914e-01 3.35684299e-01 3.35684299e-01 3.52392947e-01\n",
      " 3.52392947e-01 4.05121746e-01 4.05121746e-01 5.53232578e-01\n",
      " 5.53232578e-01 5.93870697e-01 5.93870697e-01 1.00000000e+00]\n",
      "\n",
      "\n",
      "[0.         0.00138889 0.12083333 0.12361111 0.175      0.17777778\n",
      " 0.19166667 0.19166667 0.19583333 0.19861111 0.31805556 0.31805556\n",
      " 0.34722222 0.34722222 0.38888889 0.38888889 0.40972222 0.40972222\n",
      " 0.425      0.425      0.43888889 0.43888889 0.44027778 0.44027778\n",
      " 0.46111111 0.46111111 0.47638889 0.47638889 0.49305556 0.49305556\n",
      " 0.50138889 0.50138889 0.51805556 0.51805556 0.52916667 0.52916667\n",
      " 0.53611111 0.53611111 0.55       0.55       0.55138889 0.55138889\n",
      " 0.57083333 0.57083333 0.57777778 0.57777778 0.58472222 0.58472222\n",
      " 0.59027778 0.59027778 0.59305556 0.59305556 0.60416667 0.60416667\n",
      " 0.61388889 0.61388889 0.61805556 0.61805556 0.61944444 0.61944444\n",
      " 0.62083333 0.62083333 0.62222222 0.62222222 0.62638889 0.62638889\n",
      " 0.62916667 0.62916667 0.63055556 0.63055556 0.63194444 0.63194444\n",
      " 0.64722222 0.64722222 0.65277778 0.65277778 0.65416667 0.65416667\n",
      " 0.65555556 0.65555556 0.65694444 0.65694444 0.65833333 0.65833333\n",
      " 0.66388889 0.66388889 0.66944444 0.66944444 0.67083333 0.67083333\n",
      " 0.67222222 0.67222222 0.67361111 0.67361111 0.675      0.675\n",
      " 0.67638889 0.67638889 0.67777778 0.67777778 0.68472222 0.68472222\n",
      " 0.69583333 0.69583333 0.70416667 0.70416667 0.70555556 0.70555556\n",
      " 0.70694444 0.70694444 0.71111111 0.71111111 0.7125     0.7125\n",
      " 0.71388889 0.71388889 0.71527778 0.71527778 0.71666667 0.71666667\n",
      " 0.71805556 0.71805556 0.72083333 0.72083333 0.72222222 0.72222222\n",
      " 0.72638889 0.72638889 0.72777778 0.72777778 0.73055556 0.73055556\n",
      " 0.73194444 0.73194444 0.73333333 0.73333333 0.73472222 0.73472222\n",
      " 0.73611111 0.73611111 0.73888889 0.73888889 0.74027778 0.74027778\n",
      " 0.74305556 0.74305556 0.74583333 0.74583333 0.74722222 0.74722222\n",
      " 0.75138889 0.75138889 0.75416667 0.75416667 0.75555556 0.75555556\n",
      " 0.75833333 0.75833333 0.75972222 0.75972222 0.76111111 0.76111111\n",
      " 0.7625     0.7625     0.76527778 0.76527778 0.76666667 0.76666667\n",
      " 0.76805556 0.76805556 0.77083333 0.77083333 0.77222222 0.77222222\n",
      " 0.77361111 0.77361111 0.775      0.775      0.77777778 0.77777778\n",
      " 0.78055556 0.78055556 0.78194444 0.78194444 0.78333333 0.78333333\n",
      " 0.78472222 0.78472222 0.78611111 0.78611111 0.7875     0.7875\n",
      " 0.79166667 0.79166667 0.79583333 0.79583333 0.80138889 0.80138889\n",
      " 0.80277778 0.80277778 0.80555556 0.80555556 0.80694444 0.80694444\n",
      " 0.80972222 0.80972222 0.81111111 0.81111111 0.8125     0.8125\n",
      " 0.81388889 0.81388889 0.81527778 0.81527778 0.81666667 0.81666667\n",
      " 0.81805556 0.81805556 0.81944444 0.81944444 0.82083333 0.82083333\n",
      " 0.82222222 0.82222222 0.82361111 0.82361111 0.82638889 0.82638889\n",
      " 0.82777778 0.82777778 0.82916667 0.82916667 0.83055556 0.83055556\n",
      " 0.83194444 0.83194444 0.83333333 0.83333333 0.83472222 0.83472222\n",
      " 0.8375     0.8375     0.83888889 0.83888889 0.84861111 0.84861111\n",
      " 0.85277778 0.85277778 0.85416667 0.85416667 0.85833333 0.85833333\n",
      " 0.85972222 0.85972222 0.8625     0.8625     0.86527778 0.86527778\n",
      " 0.86666667 0.86666667 0.86805556 0.86805556 0.86944444 0.86944444\n",
      " 0.87083333 0.87083333 0.87222222 0.87222222 0.875      0.875\n",
      " 0.87638889 0.87638889 0.87777778 0.87777778 0.88055556 0.88055556\n",
      " 0.88333333 0.88333333 0.88472222 0.88472222 0.88611111 0.88611111\n",
      " 0.8875     0.8875     0.88888889 0.88888889 0.89027778 0.89027778\n",
      " 0.89166667 0.89166667 0.89305556 0.89305556 0.89444444 0.89444444\n",
      " 0.89722222 0.89722222 0.89861111 0.89861111 0.9        0.9\n",
      " 0.90138889 0.90138889 0.90277778 0.90277778 0.90694444 0.90694444\n",
      " 0.90833333 0.90833333 0.90972222 0.90972222 0.91111111 0.91111111\n",
      " 0.9125     0.9125     0.91388889 0.91388889 0.91527778 0.91527778\n",
      " 0.91666667 0.91666667 0.91805556 0.91805556 0.91944444 0.91944444\n",
      " 0.92083333 0.92083333 0.92222222 0.92222222 0.92361111 0.92361111\n",
      " 0.925      0.925      0.92638889 0.92638889 0.92916667 0.92916667\n",
      " 0.93055556 0.93055556 0.93194444 0.93194444 0.93333333 0.93333333\n",
      " 0.93472222 0.93472222 0.93611111 0.93611111 0.9375     0.9375\n",
      " 0.93888889 0.93888889 0.94027778 0.94027778 0.94166667 0.94166667\n",
      " 0.94305556 0.94305556 0.94444444 0.94444444 0.94583333 0.94583333\n",
      " 0.94722222 0.94722222 0.94861111 0.94861111 0.95       0.95\n",
      " 0.95138889 0.95138889 0.95277778 0.95277778 0.95416667 0.95416667\n",
      " 0.95555556 0.95555556 0.95694444 0.95694444 0.95972222 0.95972222\n",
      " 0.96111111 0.96111111 0.9625     0.9625     0.96388889 0.96388889\n",
      " 0.96527778 0.96527778 0.96666667 0.96666667 0.96805556 0.96805556\n",
      " 0.96944444 0.96944444 0.97083333 0.97083333 0.97222222 0.97222222\n",
      " 0.97361111 0.97361111 0.975      0.975      0.97638889 0.97638889\n",
      " 0.97777778 0.97777778 0.97916667 0.97916667 0.98055556 0.98055556\n",
      " 0.98194444 0.98194444 0.98333333 0.98333333 0.98472222 0.98472222\n",
      " 0.98611111 0.98611111 0.9875     0.9875     0.98888889 0.98888889\n",
      " 0.99027778 0.99027778 0.99166667 0.99166667 0.99305556 0.99305556\n",
      " 0.99444444 0.99444444 0.99583333 0.99583333 0.99722222 0.99722222\n"
     ]
    },
    {
     "name": "stdout",
     "output_type": "stream",
     "text": [
      " 0.99861111 0.99861111 1.         1.        ]\n"
     ]
    }
   ],
   "source": [
    "\n",
    "fpr_xg, tpr_xg, thresholds_xg = metrics.roc_curve(y_test_gray, y_predict_prob_xg[:,1], pos_label=1)\n",
    "\n",
    "print(fpr_xg)\n",
    "print(\"\\n\")\n",
    "print(tpr_xg)"
   ]
  },
  {
   "cell_type": "markdown",
   "metadata": {},
   "source": [
    "### AUC:"
   ]
  },
  {
   "cell_type": "code",
   "execution_count": 48,
   "metadata": {},
   "outputs": [
    {
     "name": "stdout",
     "output_type": "stream",
     "text": [
      "0.9832802733463942\n"
     ]
    }
   ],
   "source": [
    "# AUC:\n",
    "AUC_xg = metrics.auc(fpr_xg, tpr_xg)\n",
    "print(AUC_xg)"
   ]
  },
  {
   "cell_type": "markdown",
   "metadata": {},
   "source": [
    "### ROC Curve:"
   ]
  },
  {
   "cell_type": "code",
   "execution_count": 49,
   "metadata": {},
   "outputs": [
    {
     "data": {
      "image/png": "[encoded data removed]",
      "text/plain": [
       "<Figure size 432x288 with 1 Axes>"
      ]
     },
     "metadata": {
      "needs_background": "light"
     },
     "output_type": "display_data"
    }
   ],
   "source": [
    "plt.figure()\n",
    "\n",
    "# Roc Curve:\n",
    "plt.plot(fpr_xg, tpr_xg, color='red', lw=2, label='XG - ROC Curve (area = %0.2f)' % AUC_xg)\n",
    "\n",
    "# Random Guess line:\n",
    "plt.plot([0, 1], [0, 1], color='blue', lw=1, linestyle='--')\n",
    "\n",
    "# Defining The Range of X-Axis and Y-Axis:\n",
    "plt.xlim([-0.005, 1.005])\n",
    "plt.ylim([0.0, 1.01])\n",
    "\n",
    "# Labels, Title, Legend:\n",
    "plt.xlabel('False Positive Rate')\n",
    "plt.ylabel('True Positive Rate')\n",
    "plt.title('Receiver operating characteristic')\n",
    "plt.legend(loc=\"lower right\")\n",
    "\n",
    "plt.show()"
   ]
  },
  {
   "cell_type": "markdown",
   "metadata": {},
   "source": [
    "#  Comparing the ROC Curves:\n"
   ]
  },
  {
   "cell_type": "code",
   "execution_count": 69,
   "metadata": {},
   "outputs": [
    {
     "data": {
      "image/png": "[encoded data removed]",
      "text/plain": [
       "<Figure size 432x288 with 1 Axes>"
      ]
     },
     "metadata": {
      "needs_background": "light"
     },
     "output_type": "display_data"
    }
   ],
   "source": [
    "plt.figure()\n",
    "\n",
    "# Roc Curve: Logistic Regression\n",
    "plt.plot(fpr_lr, tpr_lr, color='red', lw=2, label='ROC Curve LR (area = %0.2f)' % AUC_lr)\n",
    "\n",
    "# Roc Curve: Decision Tree Classifier\n",
    "plt.plot(fpr_dt, tpr_dt, color='magenta', lw=2, label='ROC Curve DT (area = %0.2f)' % AUC_dt)\n",
    "\n",
    "# Roc Curve: Random Forest Classifier\n",
    "plt.plot(fpr_rf, tpr_rf, color='green', lw=2, label='ROC Curve RF (area = %0.2f)' % AUC_rf)\n",
    "\n",
    "# Roc Curve: Adaboost Classifier\n",
    "plt.plot(fpr_ad, tpr_ad, color='cyan', lw=2, label='ROC Curve AD (area = %0.2f)' % AUC_ad)\n",
    "\n",
    "# Roc Curve: XGBoost Classifier\n",
    "plt.plot(fpr_xg, tpr_xg, color='yellow', lw=2, label='ROC Curve XG (area = %0.2f)' % AUC_xg)\n",
    "\n",
    "\n",
    "# Random Guess line:\n",
    "plt.plot([0, 1], [0, 1], color='blue', lw=1, linestyle='--')\n",
    "\n",
    "# Defining The Range of X-Axis and Y-Axis:\n",
    "plt.xlim([-0.005, 1.05])\n",
    "plt.ylim([0.0, 1.05])\n",
    "\n",
    "# Labels, Title, Legend:\n",
    "plt.xlabel('False Positive Rate')\n",
    "plt.ylabel('True Positive Rate')\n",
    "plt.title('Receiver operating characteristic')\n",
    "plt.legend(loc=\"lower right\")\n",
    "\n",
    "plt.show()"
   ]
  },
  {
   "cell_type": "markdown",
   "metadata": {
    "collapsed": true
   },
   "source": [
    "#   \n",
    "# Cross-Validation"
   ]
  },
  {
   "cell_type": "markdown",
   "metadata": {},
   "source": [
    "## Combine training and testing data :\n"
   ]
  },
  {
   "cell_type": "code",
   "execution_count": 11,
   "metadata": {},
   "outputs": [],
   "source": [
    "X_new = np.concatenate((X_train_gray, X_test_gray))\n",
    "y_new = np.concatenate((y_train_gray, y_test_gray))"
   ]
  },
  {
   "cell_type": "code",
   "execution_count": 12,
   "metadata": {},
   "outputs": [
    {
     "data": {
      "text/plain": [
       "array([[ 43,  51,  48, ...,  46,  59,  52],\n",
       "       [119, 155, 208, ..., 179, 175, 197],\n",
       "       [123, 176, 160, ...,  38,  39,  39],\n",
       "       ...,\n",
       "       [100,  87, 156, ..., 129, 124,  80],\n",
       "       [ 49,  39,  40, ...,  41,  41,  39],\n",
       "       [ 69,  82,  69, ...,  59, 172, 202]], dtype=uint8)"
      ]
     },
     "execution_count": 12,
     "metadata": {},
     "output_type": "execute_result"
    }
   ],
   "source": [
    "X_new"
   ]
  },
  {
   "cell_type": "code",
   "execution_count": 13,
   "metadata": {},
   "outputs": [
    {
     "data": {
      "text/plain": [
       "array([ 6, 33, 17, ...,  4,  1, 38])"
      ]
     },
     "execution_count": 13,
     "metadata": {},
     "output_type": "execute_result"
    }
   ],
   "source": [
    "y_new"
   ]
  },
  {
   "cell_type": "code",
   "execution_count": 14,
   "metadata": {},
   "outputs": [
    {
     "name": "stdout",
     "output_type": "stream",
     "text": [
      "X: (51839, 1024)\n",
      "y: (51839,)\n"
     ]
    }
   ],
   "source": [
    "print(\"X:\",X_new.shape)\n",
    "print(\"y:\",y_new.shape)"
   ]
  },
  {
   "cell_type": "markdown",
   "metadata": {},
   "source": [
    "### Applying 10-fold Cross Validation for \"Decision Tree\" classifier:\n"
   ]
  },
  {
   "cell_type": "code",
   "execution_count": 17,
   "metadata": {},
   "outputs": [
    {
     "name": "stdout",
     "output_type": "stream",
     "text": [
      "Cross-Validation Accuracy:  [0.78125    0.78279321 0.77353395 0.77970679 0.77700617 0.76292438\n",
      " 0.77565586 0.76658951 0.75096451 0.7426201 ] \n",
      "\n",
      "CPU times: user 8min 4s, sys: 2.04 s, total: 8min 6s\n",
      "Wall time: 8min 8s\n"
     ]
    }
   ],
   "source": [
    "%%time\n",
    "\n",
    "from sklearn.model_selection import cross_val_score\n",
    "\n",
    "my_decisiontree = DecisionTreeClassifier(random_state=1)\n",
    "accuracy_list = cross_val_score(my_decisiontree,X_new, y_new, cv=10, scoring='accuracy')\n",
    "\n",
    "print('Cross-Validation Accuracy: ',accuracy_list,'\\n')"
   ]
  },
  {
   "cell_type": "code",
   "execution_count": 19,
   "metadata": {},
   "outputs": [
    {
     "name": "stdout",
     "output_type": "stream",
     "text": [
      "Cross-Validation Accuracy for Decision Tree:  0.7693044486902814\n"
     ]
    }
   ],
   "source": [
    "# display accuracy\n",
    "accuracy_cv = accuracy_list.mean()\n",
    "\n",
    "print(\"Cross-Validation Accuracy for Decision Tree: \",accuracy_cv)"
   ]
  },
  {
   "cell_type": "markdown",
   "metadata": {},
   "source": [
    "### Applying 10-fold Cross Validation for \"Logistic Regression\" classifier:\n"
   ]
  },
  {
   "cell_type": "code",
   "execution_count": 20,
   "metadata": {},
   "outputs": [
    {
     "name": "stderr",
     "output_type": "stream",
     "text": [
      "/opt/anaconda3/lib/python3.8/site-packages/sklearn/linear_model/_logistic.py:762: ConvergenceWarning: lbfgs failed to converge (status=1):\n",
      "STOP: TOTAL NO. of ITERATIONS REACHED LIMIT.\n",
      "\n",
      "Increase the number of iterations (max_iter) or scale the data as shown in:\n",
      "    https://scikit-learn.org/stable/modules/preprocessing.html\n",
      "Please also refer to the documentation for alternative solver options:\n",
      "    https://scikit-learn.org/stable/modules/linear_model.html#logistic-regression\n",
      "  n_iter_i = _check_optimize_result(\n",
      "/opt/anaconda3/lib/python3.8/site-packages/sklearn/linear_model/_logistic.py:762: ConvergenceWarning: lbfgs failed to converge (status=1):\n",
      "STOP: TOTAL NO. of ITERATIONS REACHED LIMIT.\n",
      "\n",
      "Increase the number of iterations (max_iter) or scale the data as shown in:\n",
      "    https://scikit-learn.org/stable/modules/preprocessing.html\n",
      "Please also refer to the documentation for alternative solver options:\n",
      "    https://scikit-learn.org/stable/modules/linear_model.html#logistic-regression\n",
      "  n_iter_i = _check_optimize_result(\n",
      "/opt/anaconda3/lib/python3.8/site-packages/sklearn/linear_model/_logistic.py:762: ConvergenceWarning: lbfgs failed to converge (status=1):\n",
      "STOP: TOTAL NO. of ITERATIONS REACHED LIMIT.\n",
      "\n",
      "Increase the number of iterations (max_iter) or scale the data as shown in:\n",
      "    https://scikit-learn.org/stable/modules/preprocessing.html\n",
      "Please also refer to the documentation for alternative solver options:\n",
      "    https://scikit-learn.org/stable/modules/linear_model.html#logistic-regression\n",
      "  n_iter_i = _check_optimize_result(\n",
      "/opt/anaconda3/lib/python3.8/site-packages/sklearn/linear_model/_logistic.py:762: ConvergenceWarning: lbfgs failed to converge (status=1):\n",
      "STOP: TOTAL NO. of ITERATIONS REACHED LIMIT.\n",
      "\n",
      "Increase the number of iterations (max_iter) or scale the data as shown in:\n",
      "    https://scikit-learn.org/stable/modules/preprocessing.html\n",
      "Please also refer to the documentation for alternative solver options:\n",
      "    https://scikit-learn.org/stable/modules/linear_model.html#logistic-regression\n",
      "  n_iter_i = _check_optimize_result(\n",
      "/opt/anaconda3/lib/python3.8/site-packages/sklearn/linear_model/_logistic.py:762: ConvergenceWarning: lbfgs failed to converge (status=1):\n",
      "STOP: TOTAL NO. of ITERATIONS REACHED LIMIT.\n",
      "\n",
      "Increase the number of iterations (max_iter) or scale the data as shown in:\n",
      "    https://scikit-learn.org/stable/modules/preprocessing.html\n",
      "Please also refer to the documentation for alternative solver options:\n",
      "    https://scikit-learn.org/stable/modules/linear_model.html#logistic-regression\n",
      "  n_iter_i = _check_optimize_result(\n",
      "/opt/anaconda3/lib/python3.8/site-packages/sklearn/linear_model/_logistic.py:762: ConvergenceWarning: lbfgs failed to converge (status=1):\n",
      "STOP: TOTAL NO. of ITERATIONS REACHED LIMIT.\n",
      "\n",
      "Increase the number of iterations (max_iter) or scale the data as shown in:\n",
      "    https://scikit-learn.org/stable/modules/preprocessing.html\n",
      "Please also refer to the documentation for alternative solver options:\n",
      "    https://scikit-learn.org/stable/modules/linear_model.html#logistic-regression\n",
      "  n_iter_i = _check_optimize_result(\n",
      "/opt/anaconda3/lib/python3.8/site-packages/sklearn/linear_model/_logistic.py:762: ConvergenceWarning: lbfgs failed to converge (status=1):\n",
      "STOP: TOTAL NO. of ITERATIONS REACHED LIMIT.\n",
      "\n",
      "Increase the number of iterations (max_iter) or scale the data as shown in:\n",
      "    https://scikit-learn.org/stable/modules/preprocessing.html\n",
      "Please also refer to the documentation for alternative solver options:\n",
      "    https://scikit-learn.org/stable/modules/linear_model.html#logistic-regression\n",
      "  n_iter_i = _check_optimize_result(\n",
      "/opt/anaconda3/lib/python3.8/site-packages/sklearn/linear_model/_logistic.py:762: ConvergenceWarning: lbfgs failed to converge (status=1):\n",
      "STOP: TOTAL NO. of ITERATIONS REACHED LIMIT.\n",
      "\n",
      "Increase the number of iterations (max_iter) or scale the data as shown in:\n",
      "    https://scikit-learn.org/stable/modules/preprocessing.html\n",
      "Please also refer to the documentation for alternative solver options:\n",
      "    https://scikit-learn.org/stable/modules/linear_model.html#logistic-regression\n",
      "  n_iter_i = _check_optimize_result(\n",
      "/opt/anaconda3/lib/python3.8/site-packages/sklearn/linear_model/_logistic.py:762: ConvergenceWarning: lbfgs failed to converge (status=1):\n",
      "STOP: TOTAL NO. of ITERATIONS REACHED LIMIT.\n",
      "\n",
      "Increase the number of iterations (max_iter) or scale the data as shown in:\n",
      "    https://scikit-learn.org/stable/modules/preprocessing.html\n",
      "Please also refer to the documentation for alternative solver options:\n",
      "    https://scikit-learn.org/stable/modules/linear_model.html#logistic-regression\n",
      "  n_iter_i = _check_optimize_result(\n"
     ]
    },
    {
     "name": "stdout",
     "output_type": "stream",
     "text": [
      "\n",
      " Cross-Validation Accuracy:  [0.87789352 0.88908179 0.88483796 0.88715278 0.88020833 0.88329475\n",
      " 0.88869599 0.88290895 0.85185185 0.85491028]\n",
      "CPU times: user 42min 45s, sys: 4min 29s, total: 47min 15s\n",
      "Wall time: 6min 31s\n"
     ]
    },
    {
     "name": "stderr",
     "output_type": "stream",
     "text": [
      "/opt/anaconda3/lib/python3.8/site-packages/sklearn/linear_model/_logistic.py:762: ConvergenceWarning: lbfgs failed to converge (status=1):\n",
      "STOP: TOTAL NO. of ITERATIONS REACHED LIMIT.\n",
      "\n",
      "Increase the number of iterations (max_iter) or scale the data as shown in:\n",
      "    https://scikit-learn.org/stable/modules/preprocessing.html\n",
      "Please also refer to the documentation for alternative solver options:\n",
      "    https://scikit-learn.org/stable/modules/linear_model.html#logistic-regression\n",
      "  n_iter_i = _check_optimize_result(\n"
     ]
    }
   ],
   "source": [
    "%%time\n",
    "\n",
    "my_logreg_cv = LogisticRegression()\n",
    "accuracy_list_cv_lr = cross_val_score(my_logreg_cv,X_new, y_new, cv=10, scoring='accuracy')\n",
    "\n",
    "print('\\n','Cross-Validation Accuracy: ',accuracy_list_cv_lr)"
   ]
  },
  {
   "cell_type": "code",
   "execution_count": 21,
   "metadata": {},
   "outputs": [
    {
     "name": "stdout",
     "output_type": "stream",
     "text": [
      "Cross-Validation Accuracy for Logistic Regression:  0.7693044486902814\n"
     ]
    }
   ],
   "source": [
    "# display accuracy\n",
    "accuracy_cv_lr = accuracy_list_cv_lr.mean()\n",
    "\n",
    "print(\"Cross-Validation Accuracy for Logistic Regression: \",accuracy_cv)"
   ]
  },
  {
   "cell_type": "code",
   "execution_count": null,
   "metadata": {},
   "outputs": [],
   "source": []
  }
 ],
 "metadata": {
  "kernelspec": {
   "display_name": "Python 3",
   "language": "python",
   "name": "python3"
  },
  "language_info": {
   "codemirror_mode": {
    "name": "ipython",
    "version": 3
   },
   "file_extension": ".py",
   "mimetype": "text/x-python",
   "name": "python",
   "nbconvert_exporter": "python",
   "pygments_lexer": "ipython3",
   "version": "3.8.3"
  }
 },
 "nbformat": 4,
 "nbformat_minor": 4
}
